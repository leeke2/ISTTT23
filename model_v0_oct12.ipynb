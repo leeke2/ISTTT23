{
 "cells": [
  {
   "cell_type": "code",
   "execution_count": 41,
   "metadata": {},
   "outputs": [
    {
     "data": {
      "text/html": [
       "<script>\n",
       "code_show=true; \n",
       "function code_toggle() {\n",
       " if (code_show){\n",
       " $('div.input').hide();\n",
       " } else {\n",
       " $('div.input').show();\n",
       " }\n",
       " code_show = !code_show\n",
       "} \n",
       "$( document ).ready(code_toggle);\n",
       "</script>\n",
       "<form action=\"javascript:code_toggle()\"><input type=\"submit\" value=\"Click here to toggle on/off the raw/MD code.\"></form>"
      ],
      "text/plain": [
       "<IPython.core.display.HTML object>"
      ]
     },
     "execution_count": 41,
     "metadata": {},
     "output_type": "execute_result"
    }
   ],
   "source": [
    "from IPython.display import HTML\n",
    "\n",
    "HTML('''<script>\n",
    "code_show=true; \n",
    "function code_toggle() {\n",
    " if (code_show){\n",
    " $('div.input').hide();\n",
    " } else {\n",
    " $('div.input').show();\n",
    " }\n",
    " code_show = !code_show\n",
    "} \n",
    "$( document ).ready(code_toggle);\n",
    "</script>\n",
    "<form action=\"javascript:code_toggle()\"><input type=\"submit\" value=\"Click here to toggle on/off the raw/MD code.\"></form>''')\n",
    "\n"
   ]
  },
  {
   "cell_type": "code",
   "execution_count": 2,
   "metadata": {
    "collapsed": true
   },
   "outputs": [],
   "source": [
    "import cplex\n",
    "from random import randint\n",
    "from itertools import permutations, repeat\n",
    "from pprint import pprint"
   ]
  },
  {
   "cell_type": "code",
   "execution_count": 3,
   "metadata": {},
   "outputs": [],
   "source": [
    "# Inputs\n",
    "routes = [\"R1\", \"R2\"]\n",
    "stops = [[\"A\", \"B\", \"C\", \"D\"],[\"AA\",\"B\",\"BB\",\"C\",\"CC\"]]\n",
    "buses = [6, 6]\n",
    "transfers = []\n",
    "omega = {}\n",
    "\n",
    "for r1,_ in enumerate(routes):\n",
    "    for r2,_ in enumerate(routes):\n",
    "        if r2 > r1:\n",
    "            common_stops = list(set(stops[r1]).intersection(stops[r2]))\n",
    "            \n",
    "            for stop in common_stops:\n",
    "                r1_last_stop = (stops[r1].index(stop) == len(stops[r1])-1)\n",
    "                r2_last_stop = (stops[r2].index(stop) == len(stops[r2])-1)\n",
    "                \n",
    "                if not (r1_last_stop and r2_last_stop):\n",
    "                    if not r1_last_stop:\n",
    "                        transfers.append((r2, r1, stop))\n",
    "                        if r2 not in omega:                            \n",
    "                            omega[r2] = {}\n",
    "                        \n",
    "                        if stop not in omega[r2]:\n",
    "                            omega[r2][stop] = {}\n",
    "                            \n",
    "                        omega[r2][stop][r1] = randint(2,4)\n",
    "                    \n",
    "                    if not r2_last_stop:\n",
    "                        transfers.append((r1, r2, stop))\n",
    "                        \n",
    "                        if r1 not in omega:                            \n",
    "                            omega[r1] = {}\n",
    "                        \n",
    "                        if stop not in omega[r1]:\n",
    "                            omega[r1][stop] = {}\n",
    "                            \n",
    "                        omega[r1][stop][r2] = randint(2,4)\n",
    "\n",
    "sigma_f = [2,3]\n",
    "sigma_l = [50,50]\n",
    "\n",
    "delta_min = [5,5]\n",
    "delta_max = [25,15]\n",
    "\n",
    "dwell_max = [2,2]\n",
    "\n",
    "plan_horizon = 100\n",
    "\n",
    "# M = max(delta_max) + max([t for route in omega.values() for stop in route.values() for t in stop.values()])\n",
    "M = plan_horizon\n",
    "\n",
    "tt = []\n",
    "for r,_ in enumerate(routes):\n",
    "    tt.append([])\n",
    "    for s, _ in enumerate(stops[r]):\n",
    "        if s != len(stops[r]) - 1:\n",
    "            tt[r].append([])\n",
    "            for n in range(plan_horizon):\n",
    "                tt[r][s].append(randint(2, 3))\n",
    "\n",
    "groups = [([0,1], ['C'], 'A'), ([1,0], ['B'], 'AA'), ([0,1, 0], ['B', 'C'], 'A'), ([1,0], ['C'], 'AA')]\n",
    "\n",
    "# demands = [randint(1,100) for _ in groups]\n",
    "demands = [10, 56, 60, 52]\n",
    "# alpha = [randint(1, plan_horizon) for _ in groups]\n",
    "alpha = [10, 37, 40, 13]"
   ]
  },
  {
   "cell_type": "code",
   "execution_count": 4,
   "metadata": {
    "collapsed": true
   },
   "outputs": [],
   "source": [
    "cp = cplex.Cplex()\n",
    "\n",
    "cp.objective.set_sense(cp.objective.sense.minimize)\n",
    "cp.set_problem_type(cp.problem_type.LP)\n",
    "cp.parameters.conflict.display = 2\n",
    "\n",
    "idxFirst = {}\n",
    "constraints = []"
   ]
  },
  {
   "cell_type": "markdown",
   "metadata": {},
   "source": [
    "### Definition of variables\n",
    "\n",
    "$d_{rs}^k$: `d[r][s][k]`\n",
    "\n",
    "$a_{rs}^k$: `a[r][s][k]`\n",
    "\n",
    "$h_{rs}^k$: `h[r][s][k]`\n",
    "\n",
    "$d_{rs}^{kn}$: `db[r][s][k][n]`\n",
    "\n",
    "$c_{rks}^{r^\\prime k^\\prime}$: `c[r][r'][s][k][k']`\n",
    "\n",
    "$t_{rks}^{r^\\prime k^\\prime}$: `t[r][r'][s][k][k']`\n",
    "\n",
    "$g_{grks}^{r^\\prime k^\\prime}$: `t[r][r'][s][k][k'][g]`\n",
    "\n",
    "$\\tilde{c}_g^k$: `co[g][k]`\n",
    "\n",
    "$t_g$: `t[g]`"
   ]
  },
  {
   "cell_type": "code",
   "execution_count": 5,
   "metadata": {
    "collapsed": true,
    "scrolled": true
   },
   "outputs": [],
   "source": [
    "# Generate d, a h\n",
    "varnames = []\n",
    "d = []\n",
    "a = []\n",
    "h = []\n",
    "\n",
    "idx = 0\n",
    "for r, _ in enumerate(routes):\n",
    "    d.append([])\n",
    "    a.append([])\n",
    "    h.append([])\n",
    "    \n",
    "    for s, _ in enumerate(stops[r]):\n",
    "        d[r].append([])\n",
    "        a[r].append([])\n",
    "        h[r].append([])\n",
    "        \n",
    "        for k in range(buses[r]):\n",
    "            d[r][s].append(idx)\n",
    "            a[r][s].append(idx+1)\n",
    "            h[r][s].append(idx+2)\n",
    "            \n",
    "            varnames.append(\"d_r{},s{},k{}\".format(r,s,k))\n",
    "            varnames.append(\"a_r{},s{},k{}\".format(r,s,k))\n",
    "            varnames.append(\"h_r{},s{},k{}\".format(r,s,k))\n",
    "            \n",
    "            idx += 3\n",
    "\n",
    "cp.variables.add(obj=[0] * len(varnames),\n",
    "                types=[cp.variables.type.integer] * len(varnames),\n",
    "                ub=[plan_horizon] * len(varnames))\n",
    "cp.variables.set_names([(i,vn) for i,vn in enumerate(varnames)])\n",
    "\n",
    "# Generate d, a h\n",
    "varnames = []\n",
    "db = []\n",
    "idx_db1 = idx\n",
    "\n",
    "for r, _ in enumerate(routes):\n",
    "    db.append([])\n",
    "    \n",
    "    for s, _ in enumerate(stops[r]):\n",
    "        db[r].append([])\n",
    "        \n",
    "        for k in range(buses[r]):\n",
    "            db[r][s].append([])\n",
    "            \n",
    "            for n in range(plan_horizon):\n",
    "                db[r][s][k].append(idx)\n",
    "    \n",
    "                varnames.append(\"db_r{},s{},k{},n{}\".format(r,s,k,n))\n",
    "        \n",
    "                idx += 1\n",
    "\n",
    "cp.variables.add(obj=[0] * len(varnames),\n",
    "                types=[cp.variables.type.binary] * len(varnames))\n",
    "cp.variables.set_names([(idx_db1+i,vn) for i,vn in enumerate(varnames)])\n",
    "\n",
    "# Generate c, t, p\n",
    "varnames = []\n",
    "vartypes = []\n",
    "obj = []\n",
    "c = {}\n",
    "t = {}\n",
    "p = {}\n",
    "zt = {}\n",
    "idx_c1 = idx\n",
    "\n",
    "for (r1, r2, s) in transfers:\n",
    "    if r1 not in c: \n",
    "        c[r1] = {}\n",
    "        t[r1] = {}\n",
    "        p[r1] = {}\n",
    "        zt[r1] = {}\n",
    "    if r2 not in c[r1]: \n",
    "        c[r1][r2] = {}\n",
    "        t[r1][r2] = {}\n",
    "        p[r1][r2] = {}\n",
    "        zt[r1][r2] = {}\n",
    "    if s not in c[r1][r2]:\n",
    "        c[r1][r2][s] = {}\n",
    "        t[r1][r2][s] = {}\n",
    "        p[r1][r2][s] = {}\n",
    "        zt[r1][r2][s] = {}\n",
    "    \n",
    "    for k1, k2 in [(x,y) for x in range(buses[r1]) for y in range(buses[r2])]:\n",
    "        if k1 not in c[r1][r2][s]:\n",
    "            c[r1][r2][s][k1] = {}\n",
    "            t[r1][r2][s][k1] = {}\n",
    "            p[r1][r2][s][k1] = {}\n",
    "            zt[r1][r2][s][k1] = {}\n",
    "            \n",
    "        c[r1][r2][s][k1][k2] = idx\n",
    "        t[r1][r2][s][k1][k2] = idx+1\n",
    "        varnames.append(\"c_r{},k{},s{},rp{},kp{}\".format(r1,k1,s,r2,k2))\n",
    "        varnames.append(\"t_r{},k{},s{},rp{},kp{}\".format(r1,k1,s,r2,k2))\n",
    "        \n",
    "        obj.append(0)\n",
    "        obj.append(0.000001)\n",
    "        vartypes.append(cp.variables.type.binary)\n",
    "        vartypes.append(cp.variables.type.integer)\n",
    "        \n",
    "        idx += 2\n",
    "        \n",
    "        p[r1][r2][s][k1][k2] = []\n",
    "        zt[r1][r2][s][k1][k2] = []\n",
    "        for g,_ in enumerate(groups):\n",
    "            p[r1][r2][s][k1][k2].append(idx)\n",
    "            zt[r1][r2][s][k1][k2].append(idx+1)\n",
    "            varnames.append(\"p_g{},r{},k{},s{},rp{},kp{}\".format(g,r1,k1,s,r2,k2))\n",
    "            varnames.append(\"zt_g{},r{},k{},s{},rp{},kp{}\".format(g,r1,k1,s,r2,k2))\n",
    "            \n",
    "            obj.append(0)\n",
    "            obj.append(0)\n",
    "            vartypes.append(cp.variables.type.binary)\n",
    "            vartypes.append(cp.variables.type.integer)\n",
    "            \n",
    "            idx += 2\n",
    "            \n",
    "cp.variables.add(obj=obj,\n",
    "                types=vartypes)\n",
    "cp.variables.set_names([(i+idx_c1,vn) for i,vn in enumerate(varnames)])\n",
    "\n",
    "# Generate co, z\n",
    "varnames = []\n",
    "vartypes = []\n",
    "co = []\n",
    "z = []\n",
    "tg = []\n",
    "idx_co1 = idx\n",
    "\n",
    "for g, (rs, ss, o) in enumerate(groups):\n",
    "    co.append([])\n",
    "    z.append([])\n",
    "    \n",
    "    for k in range(buses[rs[0]]):\n",
    "        co[g].append(idx)\n",
    "        \n",
    "        varnames.append(\"co_g{},k{}\".format(g,k))\n",
    "        vartypes.append(cp.variables.type.binary)\n",
    "        \n",
    "        idx += 1\n",
    "        \n",
    "        z[g].append([])\n",
    "        for kp in range(buses[rs[1]]):\n",
    "            z[g][k].append(idx)\n",
    "            \n",
    "            varnames.append(\"z_g{},k{},kp{}\".format(g,k,kp))\n",
    "            vartypes.append(cp.variables.type.binary)\n",
    "            \n",
    "            idx += 1\n",
    "        \n",
    "cp.variables.add(obj=[0] * len(varnames),\n",
    "                types=vartypes)\n",
    "cp.variables.set_names([(i+idx_co1,vn) for i,vn in enumerate(varnames)])\n",
    "\n",
    "# Generate tg\n",
    "varnames = []\n",
    "tg = []\n",
    "obj = []\n",
    "idx_tg1 = idx\n",
    "\n",
    "for g, (rs, ss, o) in enumerate(groups):\n",
    "    tg.append(idx)\n",
    "    obj.append(demands[g])\n",
    "    \n",
    "    varnames.append(\"tg_g{}\".format(g))\n",
    "    idx += 1\n",
    "    \n",
    "cp.variables.add(obj=obj,\n",
    "                types=[cp.variables.type.integer] * len(varnames))\n",
    "cp.variables.set_names([(i+idx_tg1,vn) for i,vn in enumerate(varnames)])"
   ]
  },
  {
   "cell_type": "markdown",
   "metadata": {},
   "source": [
    "\\begin{align}\n",
    "    &d_{r1}^1 = \\sigma_r^f  &\\forall r \\in \\mathcal{R}\n",
    "    \\tag{2}\n",
    "\\end{align}"
   ]
  },
  {
   "cell_type": "code",
   "execution_count": 6,
   "metadata": {
    "collapsed": true
   },
   "outputs": [],
   "source": [
    "lc = cp.linear_constraints.get_num()\n",
    "constraints = []\n",
    "\n",
    "for r, _ in enumerate(routes):\n",
    "    constraints.append([[d[r][0][0]],[1]])\n",
    "        \n",
    "cp.linear_constraints.add(lin_expr=constraints,\n",
    "                          senses=['E'] * len(constraints),\n",
    "                          rhs=sigma_f)\n",
    "cp.linear_constraints.set_names([(lc+i,\"C2({})\".format(i)) for i,_ in enumerate(constraints)])"
   ]
  },
  {
   "cell_type": "markdown",
   "metadata": {},
   "source": [
    "\\begin{align}\n",
    "    &d_{r1}^K = \\sigma_r^l  &\\forall r \\in \\mathcal{R}\n",
    "    \\tag{3}\n",
    "\\end{align}"
   ]
  },
  {
   "cell_type": "code",
   "execution_count": 7,
   "metadata": {},
   "outputs": [],
   "source": [
    "lc = cp.linear_constraints.get_num()\n",
    "constraints = []\n",
    "\n",
    "for r, _ in enumerate(routes):\n",
    "    constraints.append([[d[r][0][len(d[r][0])-1]],[1]])\n",
    "        \n",
    "cp.linear_constraints.add(lin_expr=constraints,\n",
    "                          senses=['E'] * len(constraints),\n",
    "                          rhs=sigma_l)\n",
    "cp.linear_constraints.set_names([(lc+i,\"C3({})\".format(i)) for i,_ in enumerate(constraints)])"
   ]
  },
  {
   "cell_type": "markdown",
   "metadata": {},
   "source": [
    "\\begin{align}\n",
    "    &\\underline{\\delta}_r \\leq d_{rs}^{k+1} - d_{rs}^k \\leq \\bar{\\delta}_r  &\\forall r \\in \\mathcal{R}, s \\in \\mathcal{S}_r, k = 1,2, \\dots , k_r - 1\n",
    "    \\tag{4}\n",
    "\\end{align}"
   ]
  },
  {
   "cell_type": "code",
   "execution_count": 8,
   "metadata": {},
   "outputs": [],
   "source": [
    "lc = cp.linear_constraints.get_num()\n",
    "constraints = []\n",
    "\n",
    "rs = []\n",
    "rv = []\n",
    "for r, _ in enumerate(routes):\n",
    "    for s, _ in enumerate(stops[r]):\n",
    "        for k in range(buses[r]-1):\n",
    "            constraints.append([[d[r][s][k+1], d[r][s][k]],[1,-1]])\n",
    "\n",
    "            rs.append(delta_max[r])\n",
    "            rv.append(delta_min[r] - delta_max[r])\n",
    "\n",
    "cp.linear_constraints.add(lin_expr=constraints,\n",
    "                          senses=['R'] * len(constraints),\n",
    "                          rhs=rs,\n",
    "                          range_values=rv)\n",
    "cp.linear_constraints.set_names([(lc+i,\"C4({})\".format(i)) for i,_ in enumerate(constraints)])"
   ]
  },
  {
   "cell_type": "markdown",
   "metadata": {},
   "source": [
    "\\begin{align}\n",
    "    &d_{rs}^{k+1} \\geq d_{rs}^k &\\forall r \\in \\mathcal{R}, k = 1,2,\\dots ,k_r - 1\n",
    "    \\tag{5}\n",
    "\\end{align}"
   ]
  },
  {
   "cell_type": "code",
   "execution_count": 9,
   "metadata": {
    "collapsed": true
   },
   "outputs": [],
   "source": [
    "lc = cp.linear_constraints.get_num()\n",
    "constraints = []\n",
    "\n",
    "for r, _ in enumerate(routes):\n",
    "#     for s, _ in enumerate(stops[r]):\n",
    "    for k in range(buses[r]-1):\n",
    "        constraints.append([[d[r][0][k], d[r][0][k+1]],[1,-1]])\n",
    "        \n",
    "cp.linear_constraints.add(lin_expr=constraints,\n",
    "                          senses=['L'] * len(constraints),\n",
    "                          rhs=[0] * len(constraints))\n",
    "cp.linear_constraints.set_names([(lc+i,\"C2.1({})\".format(i)) for i,_ in enumerate(constraints)])"
   ]
  },
  {
   "cell_type": "markdown",
   "metadata": {},
   "source": [
    "\\begin{align}\n",
    "    &d_{rs}^k = a_{rs}^k + h_{rs}^k  &\\forall r \\in \\mathcal{R}, s \\in \\mathcal{S}_r, k =1,2,\\dots ,k_r\n",
    "    \\tag{6}\n",
    "\\end{align}"
   ]
  },
  {
   "cell_type": "code",
   "execution_count": 10,
   "metadata": {},
   "outputs": [],
   "source": [
    "lc = cp.linear_constraints.get_num()\n",
    "constraints = []\n",
    "\n",
    "for r, _ in enumerate(routes):\n",
    "    for s, _ in enumerate(stops[r]):\n",
    "        for k in range(buses[r]):\n",
    "            constraints.append([[d[r][s][k], a[r][s][k], h[r][s][k]], [1,-1,-1]])\n",
    "\n",
    "cp.linear_constraints.add(lin_expr=constraints,\n",
    "                          senses=['E'] * len(constraints),\n",
    "                          rhs=[0] * len(constraints))\n",
    "cp.linear_constraints.set_names([(lc+i,\"C6({})\".format(i)) for i,_ in enumerate(constraints)])"
   ]
  },
  {
   "cell_type": "markdown",
   "metadata": {},
   "source": [
    "\\begin{align}\n",
    "    &0 \\leq h_{rs}^k \\leq \\eta_r  &\\forall r \\in \\mathcal{R}, s \\in \\mathcal{S}_r, k =1,2,\\dots ,k_r\n",
    "    \\tag{7}\n",
    "\\end{align}"
   ]
  },
  {
   "cell_type": "code",
   "execution_count": 11,
   "metadata": {},
   "outputs": [],
   "source": [
    "lc = cp.linear_constraints.get_num()\n",
    "constraints = []\n",
    "rs = []\n",
    "\n",
    "for r, _ in enumerate(routes):\n",
    "    for s, _ in enumerate(stops[r]):\n",
    "        for k in range(buses[r]):\n",
    "            constraints.append([[h[r][s][k]], [1]])\n",
    "            rs.append(dwell_max[r])\n",
    "\n",
    "cp.linear_constraints.add(lin_expr=constraints,\n",
    "                          senses=['R'] * len(constraints),\n",
    "                          rhs=rs,\n",
    "                          range_values=[-1 * x for x in rs])\n",
    "cp.linear_constraints.set_names([(lc+i,\"C7({})\".format(i)) for i,_ in enumerate(constraints)])"
   ]
  },
  {
   "cell_type": "markdown",
   "metadata": {},
   "source": [
    "\\begin{align}\n",
    "    &a_{r(s+1)}^k = d_{rs}^k + \\theta_{rs}^{d_{rs}^k}  &\\forall r \\in \\mathcal{R}, s \\in \\mathcal{S}_r, k \\in \\mathcal{K}_r\n",
    "    \\tag{8}\\\\\n",
    "    &a_{r(s+1)}^k = d_{rs}^k + \\sum_{n < H} \\tilde{d}_{rs}^{kn} \\theta_{rs}^n\n",
    "    \\tag{11}\n",
    "\\end{align}"
   ]
  },
  {
   "cell_type": "code",
   "execution_count": 12,
   "metadata": {
    "collapsed": true
   },
   "outputs": [],
   "source": [
    "lc = cp.linear_constraints.get_num()\n",
    "constraints = []\n",
    "\n",
    "for r, _ in enumerate(routes):\n",
    "    for s in range(len(stops[r])-1):\n",
    "        for k in range(buses[r]):\n",
    "            ind = [a[r][s+1][k], d[r][s][k]]\n",
    "            val = [1,-1]\n",
    "            \n",
    "            for n in range(plan_horizon):\n",
    "                ind.append(db[r][s][k][n])\n",
    "                val.append(-1*tt[r][s][n])\n",
    "            \n",
    "            constraints.append([ind, val])\n",
    "        \n",
    "cp.linear_constraints.add(lin_expr=constraints,\n",
    "                          senses=['E'] * len(constraints),\n",
    "                          rhs=[0] * len(constraints))\n",
    "cp.linear_constraints.set_names([(lc+i,\"C11({})\".format(i)) for i,_ in enumerate(constraints)])"
   ]
  },
  {
   "cell_type": "markdown",
   "metadata": {},
   "source": [
    "\\begin{align}\n",
    "    &d_{rs}^k = \\sum n \\cdot \\tilde{d}_{rs}^{kn}  &&\\forall r,s,k\n",
    "    \\tag{9-}\n",
    "\\end{align}"
   ]
  },
  {
   "cell_type": "code",
   "execution_count": 13,
   "metadata": {},
   "outputs": [],
   "source": [
    "lc = cp.linear_constraints.get_num()\n",
    "constraints = []\n",
    "\n",
    "for r, _ in enumerate(routes):\n",
    "    for s in range(len(stops[r])):\n",
    "        for k in range(buses[r]):\n",
    "            ind = [d[r][s][k]]\n",
    "            val = [1]\n",
    "            \n",
    "            for n in range(plan_horizon):\n",
    "                ind.append(db[r][s][k][n])\n",
    "                val.append(-1*n)\n",
    "            \n",
    "            constraints.append([ind, val])\n",
    "        \n",
    "cp.linear_constraints.add(lin_expr=constraints,\n",
    "                          senses=['E'] * len(constraints),\n",
    "                          rhs=[0] * len(constraints))\n",
    "cp.linear_constraints.set_names([(lc+i,\"C9({})\".format(i)) for i,_ in enumerate(constraints)])"
   ]
  },
  {
   "cell_type": "markdown",
   "metadata": {},
   "source": [
    "\\begin{align}\n",
    "    &\\sum_n \\tilde{d}_{rs}^{kn} = 1  &&\\forall r,s,k\n",
    "    \\tag{10}\n",
    "\\end{align}"
   ]
  },
  {
   "cell_type": "code",
   "execution_count": 14,
   "metadata": {
    "collapsed": true
   },
   "outputs": [],
   "source": [
    "lc = cp.linear_constraints.get_num()\n",
    "constraints = []\n",
    "\n",
    "for r, _ in enumerate(routes):\n",
    "    for s in range(len(stops[r])):\n",
    "        for k in range(buses[r]):\n",
    "            ind = []\n",
    "            \n",
    "            for n in range(plan_horizon):\n",
    "                ind.append(db[r][s][k][n])\n",
    "            \n",
    "            constraints.append([ind, [1]*len(ind)])\n",
    "        \n",
    "cp.linear_constraints.add(lin_expr=constraints,\n",
    "                          senses=['E'] * len(constraints),\n",
    "                          rhs=[1] * len(constraints))\n",
    "cp.linear_constraints.set_names([(lc+i,\"C10({})\".format(i)) for i,_ in enumerate(constraints)])"
   ]
  },
  {
   "cell_type": "markdown",
   "metadata": {},
   "source": [
    "\\begin{align}\n",
    "    &M(c_{rks}^{r^\\prime k^\\prime} - 1) \\leq d_{r^\\prime s}^{k^\\prime} - (a_{rs}^k + \\omega_{rs}^{r^\\prime}) \\leq Mc_{rks}^{r^\\prime k^\\prime}\n",
    "    \\tag{12}\n",
    "\\end{align}"
   ]
  },
  {
   "cell_type": "code",
   "execution_count": 15,
   "metadata": {
    "collapsed": true,
    "scrolled": true
   },
   "outputs": [],
   "source": [
    "lc = cp.linear_constraints.get_num()\n",
    "constraints = []\n",
    "rhs = []\n",
    "\n",
    "for (r, rp, s) in transfers:\n",
    "    stop_r = stops[r].index(s)\n",
    "    stop_rp = stops[rp].index(s)\n",
    "    \n",
    "    for k, kp in [(x,y) for x in range(buses[r]) for y in range(buses[rp])]:\n",
    "        ind = [d[rp][stop_rp][kp], a[r][stop_r][k], c[r][rp][s][k][kp]]\n",
    "        val = [1,-1,-M]\n",
    "        \n",
    "        constraints.append([ind, val])\n",
    "        rhs.append(omega[r][s][rp])\n",
    "\n",
    "cp.linear_constraints.add(lin_expr=constraints,\n",
    "                          senses=['R'] * len(constraints),\n",
    "                          rhs=rhs,\n",
    "                          range_values=[-1*M] * len(constraints))\n",
    "cp.linear_constraints.set_names([(lc+i,\"C12({})\".format(i)) for i,_ in enumerate(constraints)])"
   ]
  },
  {
   "cell_type": "markdown",
   "metadata": {},
   "source": [
    "\\begin{align}\n",
    "    d_{r^\\prime s}^{k^\\prime} - (a_{rs}^k + \\omega_{rs}^{r^\\prime}) - Mc_{rks}^{r^\\prime (k^\\prime-1)} \\leq t_{rks}^{r^\\prime k^\\prime}\n",
    "    \\tag{13}\n",
    "\\end{align}"
   ]
  },
  {
   "cell_type": "code",
   "execution_count": 16,
   "metadata": {
    "collapsed": true
   },
   "outputs": [],
   "source": [
    "lc = cp.linear_constraints.get_num()\n",
    "constraints = []\n",
    "rhs = []\n",
    "\n",
    "for (r, rp, s) in transfers:\n",
    "    stop_r = stops[r].index(s)\n",
    "    stop_rp = stops[rp].index(s)\n",
    "    \n",
    "    for k, kp in [(x,y) for x in range(buses[r]) for y in range(buses[rp])]:\n",
    "        if kp != 0:\n",
    "            ind = [d[rp][stop_rp][kp], a[r][stop_r][k], c[r][rp][s][k][kp-1], t[r][rp][s][k][kp]]\n",
    "            val = [1,-1,-M,-1]\n",
    "        else:\n",
    "            ind = [d[rp][stop_rp][kp], a[r][stop_r][k], t[r][rp][s][k][kp]]\n",
    "            val = [1,-1,-1]\n",
    "        \n",
    "        constraints.append([ind, val])\n",
    "        rhs.append(omega[r][s][rp])\n",
    "\n",
    "cp.linear_constraints.add(lin_expr=constraints,\n",
    "                          senses=['L'] * len(constraints),\n",
    "                          rhs=rhs)\n",
    "cp.linear_constraints.set_names([(lc+i,\"C13({})\".format(i)) for i,_ in enumerate(constraints)])"
   ]
  },
  {
   "cell_type": "markdown",
   "metadata": {},
   "source": [
    "\\begin{align}\n",
    "    M(\\tilde{c}_g^k - 1) \\leq d_{r_1 s_o}^k - \\alpha_g \\leq M\\tilde{c}_g^k\n",
    "    \\tag{14}\n",
    "\\end{align}"
   ]
  },
  {
   "cell_type": "code",
   "execution_count": 17,
   "metadata": {
    "collapsed": true
   },
   "outputs": [],
   "source": [
    "lc = cp.linear_constraints.get_num()\n",
    "constraints = []\n",
    "rhs = []\n",
    "rv = []\n",
    "\n",
    "for g, (rs, ss, o) in enumerate(groups):\n",
    "    for k in range(buses[rs[0]]):\n",
    "        ind = [d[rs[0]][stops[rs[0]].index(o)][k], co[g][k]]\n",
    "        val = [1, -M]\n",
    "        \n",
    "        constraints.append([ind, val])\n",
    "        rhs.append(alpha[g])\n",
    "        rv.append(-1*plan_horizon)\n",
    "    \n",
    "cp.linear_constraints.add(lin_expr=constraints,\n",
    "                          senses=['R'] * len(constraints),\n",
    "                          rhs=rhs,\n",
    "                          range_values=rv)\n",
    "cp.linear_constraints.set_names([(lc+i,\"C14({})\".format(i)) for i,_ in enumerate(constraints)])"
   ]
  },
  {
   "cell_type": "markdown",
   "metadata": {},
   "source": [
    "\\begin{align}\n",
    "\tp_{gr_1ks_o}^{r_2k^\\prime} = \n",
    "\t\t\\begin{cases}\n",
    "\t\t\t1,\t&c_{r_1ks}^{r_2k^\\prime} - c_{r_1ks}^{r_2 (k^\\prime - 1)} = 1 \\text{ and } \\tilde{c}_g^k - \\tilde{c}_g^{k-1} = 1\\\\\n",
    "\t\t\t0,\t&\\text{otherwise}\n",
    "\t\t\\end{cases}\n",
    "\t\t\\tag{15}\n",
    "\\end{align}\n",
    "\n",
    "\\begin{align}\n",
    "    z &\\geq \\left(c_{r_1ks}^{r_2k^\\prime} - c_{r_1ks}^{r_2 (k^\\prime - 1)}\\right) + \\left(\\tilde{c}_g^k - \\tilde{c}_g^{k-1}\\right) - 1 \\tag{15a}\\\\\n",
    "    z &\\leq c_{r_1ks}^{r_2k^\\prime} - c_{r_1ks}^{r_2 (k^\\prime - 1)} \\tag{15b}\\\\\n",
    "    z &\\leq \\tilde{c}_g^k - \\tilde{c}_g^{k-1} \\tag{15c}\n",
    "\\end{align}\n",
    "\n",
    "\\begin{align}\n",
    "    p_{gr_1ks_o}^{r_2 k^\\prime} \\leq Mz \\tag{15h}\\\\\n",
    "    p_{gr_1ks_o}^{r_2 k^\\prime} \\geq z \\tag{15i}\n",
    "\\end{align}"
   ]
  },
  {
   "cell_type": "code",
   "execution_count": 18,
   "metadata": {
    "collapsed": true
   },
   "outputs": [],
   "source": [
    "lc = cp.linear_constraints.get_num()\n",
    "constraints = []\n",
    "\n",
    "for g, (rs, ss, _) in enumerate(groups):\n",
    "    r1 = rs[0]\n",
    "    r2 = rs[1]\n",
    "    \n",
    "    for k, kp in [(x,y) for x in range(buses[r1]) for y in range(buses[r2])]:\n",
    "        if k == 0 and kp == 0:\n",
    "            ind = [z[g][k][kp], c[r1][r2][ss[0]][k][kp], co[g][k]]\n",
    "            val = [1,-1,-1]\n",
    "        elif kp == 0:\n",
    "            ind = [z[g][k][kp], c[r1][r2][ss[0]][k][kp], co[g][k], co[g][k-1]]\n",
    "            val = [1,-1,-1, 1]\n",
    "        elif k == 0:\n",
    "            ind = [z[g][k][kp], c[r1][r2][ss[0]][k][kp], c[r1][r2][ss[0]][k][kp-1], co[g][k]]\n",
    "            val = [1,-1,1,-1]\n",
    "        else:\n",
    "            ind = [z[g][k][kp], c[r1][r2][ss[0]][k][kp], c[r1][r2][ss[0]][k][kp-1], co[g][k], co[g][k-1]]\n",
    "            val = [1,-1,1,-1,1]\n",
    "            \n",
    "        constraints.append([ind, val])\n",
    "            \n",
    "cp.linear_constraints.add(lin_expr=constraints,\n",
    "                          senses=['G'] * len(constraints),\n",
    "                          rhs=[-1] * len(constraints))\n",
    "cp.linear_constraints.set_names([(lc+i,\"C15a({})\".format(i)) for i,_ in enumerate(constraints)])"
   ]
  },
  {
   "cell_type": "code",
   "execution_count": 19,
   "metadata": {
    "collapsed": true
   },
   "outputs": [],
   "source": [
    "lc = cp.linear_constraints.get_num()\n",
    "constraints = []\n",
    "\n",
    "for g, (rs, ss, _) in enumerate(groups):\n",
    "    r1 = rs[0]\n",
    "    r2 = rs[1]\n",
    "    \n",
    "    for k, kp in [(x,y) for x in range(buses[r1]) for y in range(buses[r2])]:\n",
    "        if kp == 0:\n",
    "            ind = [z[g][k][kp], c[r1][r2][ss[0]][k][kp]]\n",
    "            val = [1,-1]\n",
    "        else:\n",
    "            ind = [z[g][k][kp], c[r1][r2][ss[0]][k][kp], c[r1][r2][ss[0]][k][kp-1]]\n",
    "            val = [1,-1,1]\n",
    "            \n",
    "        constraints.append([ind, val])\n",
    "            \n",
    "cp.linear_constraints.add(lin_expr=constraints,\n",
    "                          senses=['L'] * len(constraints),\n",
    "                          rhs=[0] * len(constraints))\n",
    "cp.linear_constraints.set_names([(lc+i,\"C15b({})\".format(i)) for i,_ in enumerate(constraints)])"
   ]
  },
  {
   "cell_type": "code",
   "execution_count": 20,
   "metadata": {
    "collapsed": true
   },
   "outputs": [],
   "source": [
    "lc = cp.linear_constraints.get_num()\n",
    "constraints = []\n",
    "\n",
    "for g, (rs, ss, _) in enumerate(groups):\n",
    "    r1 = rs[0]\n",
    "    r2 = rs[1]\n",
    "    \n",
    "    for k, kp in [(x,y) for x in range(buses[r1]) for y in range(buses[r2])]:\n",
    "        if k == 0:\n",
    "            ind = [z[g][k][kp], co[g][k]]\n",
    "            val = [1,-1]\n",
    "        else:\n",
    "            ind = [z[g][k][kp], co[g][k], co[g][k-1]]\n",
    "            val = [1,-1,1]\n",
    "            \n",
    "        constraints.append([ind, val])\n",
    "            \n",
    "cp.linear_constraints.add(lin_expr=constraints,\n",
    "                          senses=['L'] * len(constraints),\n",
    "                          rhs=[0] * len(constraints))\n",
    "cp.linear_constraints.set_names([(lc+i,\"C15c({})\".format(i)) for i,_ in enumerate(constraints)])"
   ]
  },
  {
   "cell_type": "code",
   "execution_count": 21,
   "metadata": {
    "collapsed": true
   },
   "outputs": [],
   "source": [
    "# lc = cp.linear_constraints.get_num()\n",
    "# constraints = []\n",
    "\n",
    "# for g, (rs, ss, o) in enumerate(groups):\n",
    "#     r1 = rs[0]\n",
    "#     r2 = rs[1]\n",
    "    \n",
    "#     for k, kp in [(x,y) for x in range(buses[r1]) for y in range(buses[r2])]:\n",
    "#         ind = [p[r1][r2][ss[0]][k][kp][g], z[g][k][kp]]\n",
    "#         val = [1,M]\n",
    "\n",
    "#         constraints.append([ind, val])\n",
    "            \n",
    "# cp.linear_constraints.add(lin_expr=constraints,\n",
    "#                           senses=['L'] * len(constraints),\n",
    "#                           rhs=[1+M] * len(constraints))\n",
    "# cp.linear_constraints.set_names([(lc+i,\"C3.4d({})\".format(i)) for i,_ in enumerate(constraints)])"
   ]
  },
  {
   "cell_type": "code",
   "execution_count": 22,
   "metadata": {
    "collapsed": true
   },
   "outputs": [],
   "source": [
    "# lc = cp.linear_constraints.get_num()\n",
    "# constraints = []\n",
    "\n",
    "# for g, (rs, ss, o) in enumerate(groups):\n",
    "#     r1 = rs[0]\n",
    "#     r2 = rs[1]\n",
    "    \n",
    "#     for k, kp in [(x,y) for x in range(buses[r1]) for y in range(buses[r2])]:\n",
    "#         ind = [p[r1][r2][ss[0]][k][kp][g], z[g][k][kp]]\n",
    "#         val = [1,-M]\n",
    "            \n",
    "#         constraints.append([ind, val])\n",
    "            \n",
    "# cp.linear_constraints.add(lin_expr=constraints,\n",
    "#                           senses=['G'] * len(constraints),\n",
    "#                           rhs=[1-M] * len(constraints))\n",
    "# cp.linear_constraints.set_names([(lc+i,\"C3.4e({})\".format(i)) for i,_ in enumerate(constraints)])"
   ]
  },
  {
   "cell_type": "code",
   "execution_count": 23,
   "metadata": {
    "collapsed": true
   },
   "outputs": [],
   "source": [
    "# lc = cp.linear_constraints.get_num()\n",
    "# constraints = []\n",
    "\n",
    "# for g, (rs, ss, o) in enumerate(groups):\n",
    "#     r1 = rs[0]\n",
    "#     r2 = rs[1]\n",
    "    \n",
    "#     for k, kp in [(x,y) for x in range(buses[r1]) for y in range(buses[r2])]:\n",
    "#         ind = [p[r1][r2][ss[0]][k][kp][g], z[g][k][kp]]\n",
    "#         val = [1,-M]\n",
    "            \n",
    "#         constraints.append([ind, val])\n",
    "            \n",
    "# cp.linear_constraints.add(lin_expr=constraints,\n",
    "#                           senses=['L'] * len(constraints),\n",
    "#                           rhs=[0] * len(constraints))\n",
    "# cp.linear_constraints.set_names([(lc+i,\"C3.4f({})\".format(i)) for i,_ in enumerate(constraints)])"
   ]
  },
  {
   "cell_type": "code",
   "execution_count": 24,
   "metadata": {
    "collapsed": true
   },
   "outputs": [],
   "source": [
    "# lc = cp.linear_constraints.get_num()\n",
    "# constraints = []\n",
    "\n",
    "# for g, (rs, ss, o) in enumerate(groups):\n",
    "#     r1 = rs[0]\n",
    "#     r2 = rs[1]\n",
    "    \n",
    "#     for k, kp in [(x,y) for x in range(buses[r1]) for y in range(buses[r2])]:\n",
    "#         ind = [p[r1][r2][ss[0]][k][kp][g], z[g][k][kp]]\n",
    "#         val = [1,M]\n",
    "            \n",
    "#         constraints.append([ind, val])\n",
    "            \n",
    "# cp.linear_constraints.add(lin_expr=constraints,\n",
    "#                           senses=['G'] * len(constraints),\n",
    "#                           rhs=[0] * len(constraints))\n",
    "# cp.linear_constraints.set_names([(lc+i,\"C3.4e({})\".format(i)) for i,_ in enumerate(constraints)])"
   ]
  },
  {
   "cell_type": "code",
   "execution_count": 25,
   "metadata": {
    "collapsed": true
   },
   "outputs": [],
   "source": [
    "lc = cp.linear_constraints.get_num()\n",
    "constraints = []\n",
    "\n",
    "for g, (rs, ss, o) in enumerate(groups):\n",
    "    r1 = rs[0]\n",
    "    r2 = rs[1]\n",
    "    \n",
    "    for k, kp in [(x,y) for x in range(buses[r1]) for y in range(buses[r2])]:\n",
    "        ind = [p[r1][r2][ss[0]][k][kp][g], z[g][k][kp]]\n",
    "        val = [1,-1*M]\n",
    "            \n",
    "        constraints.append([ind, val])\n",
    "            \n",
    "cp.linear_constraints.add(lin_expr=constraints,\n",
    "                          senses=['L'] * len(constraints),\n",
    "                          rhs=[0] * len(constraints))\n",
    "cp.linear_constraints.set_names([(lc+i,\"C15h({})\".format(i)) for i,_ in enumerate(constraints)])"
   ]
  },
  {
   "cell_type": "code",
   "execution_count": 26,
   "metadata": {
    "collapsed": true
   },
   "outputs": [],
   "source": [
    "lc = cp.linear_constraints.get_num()\n",
    "constraints = []\n",
    "\n",
    "for g, (rs, ss, o) in enumerate(groups):\n",
    "    r1 = rs[0]\n",
    "    r2 = rs[1]\n",
    "    \n",
    "    for k, kp in [(x,y) for x in range(buses[r1]) for y in range(buses[r2])]:\n",
    "        ind = [p[r1][r2][ss[0]][k][kp][g], z[g][k][kp]]\n",
    "        val = [1,-1]\n",
    "            \n",
    "        constraints.append([ind, val])\n",
    "            \n",
    "cp.linear_constraints.add(lin_expr=constraints,\n",
    "                          senses=['G'] * len(constraints),\n",
    "                          rhs=[0] * len(constraints))\n",
    "cp.linear_constraints.set_names([(lc+i,\"C15i({})\".format(i)) for i,_ in enumerate(constraints)])"
   ]
  },
  {
   "cell_type": "markdown",
   "metadata": {},
   "source": [
    "\\begin{align}\n",
    "    &\\sum_k \\sum_{k^\\prime} p_{grks}^{r^\\prime k^\\prime} = 1 \t&&\\forall (r, r^\\prime, s) \\in \\mathcal{T}_g\n",
    "    \\tag{C3.5}\n",
    "\\end{align}"
   ]
  },
  {
   "cell_type": "code",
   "execution_count": 27,
   "metadata": {
    "collapsed": true
   },
   "outputs": [],
   "source": [
    "lc = cp.linear_constraints.get_num()\n",
    "constraints = []\n",
    "\n",
    "for g, (rs, ss, o) in enumerate(groups):\n",
    "    trs = zip(rs[:-1], rs[1:], ss)\n",
    "    \n",
    "    for r, rp, s in trs:\n",
    "        ind = []\n",
    "        \n",
    "        for k, kp in [(x,y) for x in range(buses[r]) for y in range(buses[rp])]:\n",
    "            ind.append(p[r][rp][s][k][kp][g])\n",
    "            \n",
    "        constraints.append([ind, [1] * len(ind)])\n",
    "        \n",
    "cp.linear_constraints.add(lin_expr=constraints,\n",
    "                          senses=['E'] * len(constraints),\n",
    "                          rhs=[1] * len(constraints))\n",
    "cp.linear_constraints.set_names([(lc+i,\"C3.5({})\".format(i)) for i,_ in enumerate(constraints)])"
   ]
  },
  {
   "cell_type": "markdown",
   "metadata": {},
   "source": [
    "\\begin{align}\n",
    "    &\\sum_{k^\\prime} k^\\prime \\cdot p_{grks}^{r^\\prime k^\\prime} = \\sum_{k^\\prime} k^\\prime \\cdot p_{gr^\\prime k^\\prime s^\\prime}^{r^{\\prime\\prime} k^{\\prime\\prime}}\n",
    "    \\tag{C3.6}\n",
    "\\end{align}"
   ]
  },
  {
   "cell_type": "code",
   "execution_count": 28,
   "metadata": {
    "collapsed": true
   },
   "outputs": [],
   "source": [
    "lc = cp.linear_constraints.get_num()\n",
    "constraints = []\n",
    "\n",
    "for g, (rs, ss, o) in enumerate(groups):\n",
    "    trs = zip(rs[:-1], rs[1:], ss)\n",
    "    \n",
    "    for (r1, rp1, s1), (r2, rp2, s2) in zip(trs[:-1], trs[1:]):\n",
    "        ind = []\n",
    "        val = []\n",
    "\n",
    "        for k1, kp1 in [(x,y) for x in range(buses[r1]) for y in range(buses[rp1])]:\n",
    "            ind.append(p[r1][rp1][s1][k1][kp1][g])\n",
    "            val.append(kp1+1)\n",
    "\n",
    "        for k2, kp2 in [(x,y) for x in range(buses[r2]) for y in range(buses[rp2])]:\n",
    "            ind.append(p[r2][rp2][s2][k2][kp2][g])\n",
    "            val.append(-k2-1)\n",
    "\n",
    "        constraints.append([ind, val])\n",
    "\n",
    "if len(constraints) > 0:        \n",
    "    cp.linear_constraints.add(lin_expr=constraints,\n",
    "                              senses=['E'] * len(constraints),\n",
    "                              rhs=[0] * len(constraints))\n",
    "    cp.linear_constraints.set_names([(lc+i,\"C3.6({})\".format(i)) for i,_ in enumerate(constraints)])"
   ]
  },
  {
   "cell_type": "code",
   "execution_count": 29,
   "metadata": {
    "collapsed": true
   },
   "outputs": [],
   "source": [
    "lc = cp.linear_constraints.get_num()\n",
    "constraints = []\n",
    "\n",
    "for g, (rs, ss, o) in enumerate(groups):\n",
    "    trs = zip(rs[:-1], rs[1:], ss)\n",
    "    \n",
    "    for r, rp, s in trs:\n",
    "        for k, kp in [(x,y) for x in range(buses[r]) for y in range(buses[rp])]:\n",
    "            ind = [p[r][rp][s][k][kp][g], c[r][rp][s][k][kp]]\n",
    "            val = [1,-1]\n",
    "            \n",
    "            constraints.append([ind, val])\n",
    "        \n",
    "cp.linear_constraints.add(lin_expr=constraints,\n",
    "                          senses=['L'] * len(constraints),\n",
    "                          rhs=[0] * len(constraints))\n",
    "cp.linear_constraints.set_names([(lc+i,\"C3.8({})\".format(i)) for i,_ in enumerate(constraints)])"
   ]
  },
  {
   "cell_type": "markdown",
   "metadata": {},
   "source": [
    "\\begin{align}\n",
    "\tt_g = \\sum_{(r, r^\\prime, s)} \\sum_{k \\in \\mathcal{K}_r} \\sum_{k^\\prime \\in \\mathcal{K}_{r^\\prime}} p_{grks}^{r^\\prime k^\\prime} t_{rks}^{r^\\prime k^\\prime}\n",
    "    \\tag{C3.7}\n",
    "\\end{align}\n",
    "\n",
    "\\begin{align}\n",
    "    z_{grks}^{r^\\prime k^\\prime} &\\leq t_h p_{grks}^{r^\\prime k^\\prime} \\tag{C3.7a}\\\\\n",
    "    z_{grks}^{r^\\prime k^\\prime} &\\geq 0 \\tag{C3.7b} \\\\\n",
    "    z_{grks}^{r^\\prime k^\\prime} &\\geq t_{rks}^{r^\\prime k^\\prime} - t_h(1-p_{grks}^{r^\\prime k^\\prime}) \\tag{C3.7c}\\\\\n",
    "    z_{grks}^{r^\\prime k^\\prime} &\\leq t_{rks}^{r^\\prime k^\\prime} \\tag{C3.7d}\\\\\n",
    "    t_g &= \\sum \\sum \\sum z_{grks}^{r^\\prime k^\\prime} \\tag{C3.7e}\n",
    "\\end{align}"
   ]
  },
  {
   "cell_type": "code",
   "execution_count": 30,
   "metadata": {
    "collapsed": true
   },
   "outputs": [],
   "source": [
    "lc = cp.linear_constraints.get_num()\n",
    "constraints = []\n",
    "\n",
    "for g, (rs, ss, _) in enumerate(groups):\n",
    "    trs = zip(rs[:-1], rs[1:], ss)\n",
    "\n",
    "    for r, rp, s in trs:\n",
    "        for k, kp in [(x,y) for x in range(buses[r]) for y in range(buses[rp])]:\n",
    "            ind = [zt[r][rp][s][k][kp][g], p[r][rp][s][k][kp][g]]\n",
    "            val = [1, -1*plan_horizon]\n",
    "            \n",
    "            constraints.append([ind, val])\n",
    "\n",
    "cp.linear_constraints.add(lin_expr=constraints,\n",
    "                          senses=['L'] * len(constraints),\n",
    "                          rhs=[0] * len(constraints))\n",
    "cp.linear_constraints.set_names([(lc+i,\"C3.7a({})\".format(i)) for i,_ in enumerate(constraints)])"
   ]
  },
  {
   "cell_type": "code",
   "execution_count": 31,
   "metadata": {
    "collapsed": true
   },
   "outputs": [],
   "source": [
    "lc = cp.linear_constraints.get_num()\n",
    "constraints = []\n",
    "\n",
    "for g, (rs, ss, _) in enumerate(groups):\n",
    "    trs = zip(rs[:-1], rs[1:], ss)\n",
    "\n",
    "    for r, rp, s in trs:\n",
    "        for k, kp in [(x,y) for x in range(buses[r]) for y in range(buses[rp])]:\n",
    "            ind = [zt[r][rp][s][k][kp][g], t[r][rp][s][k][kp], p[r][rp][s][k][kp][g]]\n",
    "            val = [1, -1, -1*plan_horizon]\n",
    "            \n",
    "            constraints.append([ind, val])\n",
    "\n",
    "cp.linear_constraints.add(lin_expr=constraints,\n",
    "                          senses=['G'] * len(constraints),\n",
    "                          rhs=[-1*plan_horizon] * len(constraints))\n",
    "cp.linear_constraints.set_names([(lc+i,\"C3.7c({})\".format(i)) for i,_ in enumerate(constraints)])"
   ]
  },
  {
   "cell_type": "code",
   "execution_count": 32,
   "metadata": {
    "collapsed": true
   },
   "outputs": [],
   "source": [
    "lc = cp.linear_constraints.get_num()\n",
    "constraints = []\n",
    "\n",
    "for g, (rs, ss, _) in enumerate(groups):\n",
    "    trs = zip(rs[:-1], rs[1:], ss)\n",
    "\n",
    "    for r, rp, s in trs:\n",
    "        for k, kp in [(x,y) for x in range(buses[r]) for y in range(buses[rp])]:\n",
    "            ind = [zt[r][rp][s][k][kp][g], t[r][rp][s][k][kp]]\n",
    "            val = [1, -1]\n",
    "            \n",
    "            constraints.append([ind, val])\n",
    "\n",
    "cp.linear_constraints.add(lin_expr=constraints,\n",
    "                          senses=['L'] * len(constraints),\n",
    "                          rhs=[0] * len(constraints))\n",
    "cp.linear_constraints.set_names([(lc+i,\"C3.7d({})\".format(i)) for i,_ in enumerate(constraints)])"
   ]
  },
  {
   "cell_type": "code",
   "execution_count": 33,
   "metadata": {
    "collapsed": true
   },
   "outputs": [],
   "source": [
    "lc = cp.linear_constraints.get_num()\n",
    "constraints = []\n",
    "\n",
    "for g, (rs, ss, _) in enumerate(groups):\n",
    "    trs = zip(rs[:-1], rs[1:], ss)\n",
    "\n",
    "    ind = [tg[g]]\n",
    "    val = [1]\n",
    "    \n",
    "    for r, rp, s in trs:\n",
    "        for k, kp in [(x,y) for x in range(buses[r]) for y in range(buses[rp])]:\n",
    "            ind.append(zt[r][rp][s][k][kp][g])\n",
    "            val.append(-1)\n",
    "            \n",
    "    constraints.append([ind, val])\n",
    "\n",
    "cp.linear_constraints.add(lin_expr=constraints,\n",
    "                          senses=['E'] * len(constraints),\n",
    "                          rhs=[0] * len(constraints))\n",
    "cp.linear_constraints.set_names([(lc+i,\"C3.7e({})\".format(i)) for i,_ in enumerate(constraints)])"
   ]
  },
  {
   "cell_type": "code",
   "execution_count": 34,
   "metadata": {
    "collapsed": true
   },
   "outputs": [],
   "source": [
    "cp.write(\"model_v0_oct12.lp\")"
   ]
  },
  {
   "cell_type": "code",
   "execution_count": 35,
   "metadata": {
    "scrolled": true
   },
   "outputs": [
    {
     "name": "stdout",
     "output_type": "stream",
     "text": [
      "CPXPARAM_Read_DataCheck                          1\n",
      "CPXPARAM_Read_APIEncoding                        \"UTF-8\"\n",
      "CPXPARAM_MIP_Strategy_CallbackReducedLP          0\n",
      "Tried aggregator 3 times.\n",
      "MIP Presolve eliminated 1271 rows and 5753 columns.\n",
      "MIP Presolve modified 2793 coefficients.\n",
      "Aggregator did 78 substitutions.\n",
      "Reduced MIP has 730 rows, 1610 columns, and 4766 nonzeros.\n",
      "Reduced MIP has 1223 binaries, 271 generals, 0 SOSs, and 0 indicators.\n",
      "Presolve time = 0.08 sec. (29.03 ticks)\n",
      "Probing fixed 229 vars, tightened 113 bounds.\n",
      "Probing changed sense of 11 constraints.\n",
      "Probing time = 0.08 sec. (27.18 ticks)\n",
      "Cover probing fixed 2 vars, tightened 67 bounds.\n",
      "Tried aggregator 2 times.\n",
      "MIP Presolve eliminated 152 rows and 335 columns.\n",
      "MIP Presolve modified 503 coefficients.\n",
      "Aggregator did 4 substitutions.\n",
      "Reduced MIP has 574 rows, 1271 columns, and 3715 nonzeros.\n",
      "Reduced MIP has 946 binaries, 227 generals, 0 SOSs, and 0 indicators.\n",
      "Presolve time = 0.03 sec. (8.26 ticks)\n",
      "Probing fixed 13 vars, tightened 7 bounds.\n",
      "Probing time = 0.06 sec. (19.65 ticks)\n",
      "Cover probing fixed 0 vars, tightened 5 bounds.\n",
      "Tried aggregator 2 times.\n",
      "MIP Presolve eliminated 14 rows and 18 columns.\n",
      "MIP Presolve modified 15 coefficients.\n",
      "Aggregator did 1 substitutions.\n",
      "Reduced MIP has 559 rows, 1252 columns, and 3646 nonzeros.\n",
      "Reduced MIP has 932 binaries, 224 generals, 0 SOSs, and 0 indicators.\n",
      "Presolve time = 0.03 sec. (4.15 ticks)\n",
      "Probing fixed 22 vars, tightened 32 bounds.\n",
      "Probing changed sense of 1 constraints.\n",
      "Probing time = 0.09 sec. (25.35 ticks)\n",
      "Cover probing fixed 2 vars, tightened 6 bounds.\n",
      "Clique table members: 2756.\n",
      "MIP emphasis: balance optimality and feasibility.\n",
      "MIP search method: dynamic search.\n",
      "Parallel mode: deterministic, using up to 4 threads.\n",
      "Root relaxation solution time = 0.00 sec. (3.62 ticks)\n",
      "\n",
      "        Nodes                                         Cuts/\n",
      "   Node  Left     Objective  IInf  Best Integer    Best Bound    ItCnt     Gap\n",
      "\n",
      "*     0+    0                          606.0001        0.0000           100.00%\n",
      "      0     0        0.0000   142      606.0001        0.0000      374  100.00%\n",
      "*     0+    0                          606.0001        0.0000           100.00%\n",
      "      0     0        0.0000   173      606.0001     Cuts: 221      609  100.00%\n",
      "      0     0        0.0000   152      606.0001      Cuts: 85      728  100.00%\n",
      "      0     0        0.0000   181      606.0001     Cuts: 176      863  100.00%\n",
      "*     0+    0                          210.0001        0.0000           100.00%\n",
      "*     0+    0                          210.0001        0.0000           100.00%\n",
      "      0     2        0.0000   108      210.0001        0.0000      863  100.00%\n",
      "Elapsed time = 0.81 sec. (216.86 ticks, tree = 0.01 MB, solutions = 4)\n",
      "*   134+   59                           80.0001        0.0000           100.00%\n",
      "*   144    77      integral     0       80.0001        0.0000     3149  100.00%\n",
      "*   231   122      integral     0        0.0001        0.0000     4008   98.23%\n",
      "*   630+  282                            0.0001        0.0000            98.03%\n",
      "*   822   417      integral     0        0.0001        0.0000    10347   97.87%\n",
      "*   840+  419                            0.0000        0.0000            97.22%\n",
      "*   848+  419                            0.0000        0.0000            96.96%\n",
      "*   876   364      integral     0        0.0000        0.0000    10824   96.72%\n",
      "*  1164+  449                            0.0000        0.0000            96.64%\n",
      "   2455  1144    infeasible              0.0000        0.0000    26594   96.30%\n",
      "*  3336  1579      integral     0        0.0000        0.0000    35585   93.46%\n",
      "*  3407  1612      integral     0        0.0000        0.0000    36566   92.81%\n",
      "*  3567+ 1541                            0.0000        0.0000            92.29%\n",
      "   3917  1697        0.0000   173        0.0000        0.0000    46453   89.61%\n",
      "*  3925+  565                            0.0000        0.0000            88.81%\n",
      "*  3941+   51                            0.0000        0.0000            88.81%\n",
      "   4014    38        0.0000   150        0.0000        0.0000    50363   88.81%\n",
      "*  4517   203      integral     0        0.0000        0.0000    64019   80.52%\n",
      "*  4551+  216                            0.0000        0.0000            75.70%\n",
      "   4685   201        0.0000   113        0.0000        0.0000    75871   60.02%\n",
      "*  4766+  205                            0.0000        0.0000            54.76%\n",
      "   5531   143        cutoff              0.0000        0.0000    93423   23.93%\n",
      "\n",
      "GUB cover cuts applied:  134\n",
      "Clique cuts applied:  8\n",
      "Cover cuts applied:  2\n",
      "Implied bound cuts applied:  54\n",
      "Flow cuts applied:  2\n",
      "Mixed integer rounding cuts applied:  63\n",
      "Zero-half cuts applied:  6\n",
      "Multi commodity flow cuts applied:  1\n",
      "Lift and project cuts applied:  21\n",
      "Gomory fractional cuts applied:  13\n",
      "\n",
      "Root node processing (before b&c):\n",
      "  Real time             =    0.83 sec. (217.92 ticks)\n",
      "Parallel b&c, 4 threads:\n",
      "  Real time             =    6.86 sec. (2228.01 ticks)\n",
      "  Sync time (average)   =    0.96 sec.\n",
      "  Wait time (average)   =    0.08 sec.\n",
      "                          ------------\n",
      "Total (root+branch&cut) =    7.69 sec. (2445.93 ticks)\n"
     ]
    }
   ],
   "source": [
    "try:\n",
    "    cp.solve()\n",
    "except cplex.exceptions.CplexError as exc:\n",
    "    print(exc)"
   ]
  },
  {
   "cell_type": "code",
   "execution_count": 36,
   "metadata": {
    "scrolled": true
   },
   "outputs": [
    {
     "name": "stdout",
     "output_type": "stream",
     "text": [
      "2e-05\n",
      "[10, 37, 40, 13] [10, 56, 60, 52]\n",
      "[(1, 0, 'C'), (0, 1, 'C'), (1, 0, 'B'), (0, 1, 'B')]\n",
      " \n",
      "Group 0: t_g=0.0 alpha_g=10\n",
      "10.0 17.0\n",
      "20.0 100\n",
      "------------------------------------------------------------\n",
      "Group 1: t_g=0.0 alpha_g=37\n",
      "42.0 45.0\n",
      "47.0 100\n",
      "------------------------------------------------------------\n",
      "Group 2: t_g=0.0 alpha_g=40\n",
      "43.0 45.0\n",
      "47.0 53.0\n",
      "55.0 100\n",
      "------------------------------------------------------------\n",
      "Group 3: t_g=0.0 alpha_g=13\n",
      "22.0 33.0\n",
      "35.0 100\n",
      "------------------------------------------------------------\n",
      "\n",
      "Route 0:\n",
      "\n",
      "A\tB\tC\tD\n",
      "--------------------------------\n",
      "2\t7\t11\t14\n",
      "10\t15\t17\t19\n",
      "21\t26\t28\t30\n",
      "28\t32\t35\t38\n",
      "43\t47\t49\t53\n",
      "50\t53\t55\t60\n",
      "\n",
      "Route 1:\n",
      "\n",
      "AA\tB\tBB\tC\tCC\n",
      "----------------------------------------\n",
      "3\t7\t11\t13\t16\n",
      "9\t15\t18\t20\t22\n",
      "22\t26\t30\t33\t37\n",
      "27\t32\t36\t39\t43\n",
      "42\t47\t51\t53\t55\n",
      "50\t53\t56\t58\t60\n",
      "\n",
      "Route 0:\n",
      "\n",
      "A\tB\tC\tD\n",
      "--------------------------------\n",
      "2\t5\t10\t13\n",
      "8\t13\t17\t19\n",
      "21\t24\t28\t30\n",
      "28\t30\t35\t38\n",
      "41\t45\t49\t52\n",
      "50\t52\t55\t58\n",
      "\n",
      "Route 1:\n",
      "\n",
      "AA\tB\tBB\tC\tCC\n",
      "----------------------------------------\n",
      "3\t5\t9\t13\t15\n",
      "9\t13\t17\t20\t22\n",
      "22\t24\t28\t33\t35\n",
      "25\t30\t34\t39\t41\n",
      "40\t45\t50\t53\t55\n",
      "50\t52\t56\t58\t60\n",
      "\n"
     ]
    }
   ],
   "source": [
    "# pprint(zip(cp.solution.get_values(), cp.variables.get_names()))\n",
    "print cp.solution.get_objective_value()\n",
    "v = cp.solution.get_values()\n",
    "            \n",
    "print alpha, demands\n",
    "print transfers\n",
    "# for r, rp, s in transfers:\n",
    "#     print r, rp, s\n",
    "#     for k in range(buses[r]):\n",
    "#         print \"\\t\".join([str(int(v[t[r][rp][s][k][kp]])) if int(v[c[r][rp][s][k][kp]]) else \".\" for kp in range(buses[rp])])\n",
    "    \n",
    "print \" \"\n",
    "\n",
    "for g, (rs, ss, o) in enumerate(groups):\n",
    "    print \"Group {}: t_g={} alpha_g={}\".format(g, v[tg[g]], alpha[g])\n",
    "    \n",
    "    trs = zip(rs[:-1], rs[1:], ss)\n",
    "    \n",
    "    s_prev = False\n",
    "    for i, (r, rp, s) in enumerate(trs):\n",
    "#         for k in range(buses[r]):\n",
    "#             print \"\\t\".join([str(int(v[p[r][rp][s][k][kp][g]])) for kp in range(buses[rp])])\n",
    "        \n",
    "        for k, kp in [(x,y) for x in range(buses[r]) for y in range(buses[rp])]:\n",
    "            if abs(v[p[r][rp][s][k][kp][g]] - 1) <= 0.001:\n",
    "                break\n",
    "\n",
    "        if i == 0:\n",
    "            print v[d[r][stops[r].index(o)][k]], v[a[r][stops[r].index(s)][k]]\n",
    "        else:\n",
    "            print v[d[r][stops[r].index(s_prev)][k]], v[a[r][stops[r].index(s)][k]]\n",
    "        \n",
    "        s_prev = s\n",
    "    \n",
    "    print v[d[rp][stops[rp].index(s)][kp]], plan_horizon\n",
    "    print '------------------------------------------------------------'\n",
    "            \n",
    "print \"\"\n",
    "        \n",
    "for r,_ in enumerate(routes):\n",
    "    print \"Route {}:\\n\".format(r)\n",
    "    print \"\\t\".join(stops[r])\n",
    "    print \"-\" * (len(stops[r])*8)\n",
    "    for k in range(buses[r]):\n",
    "        print \"\\t\".join([str(int(v[d[r][s][k]])) for s,_ in enumerate(stops[r])])\n",
    "        \n",
    "    print \"\"\n",
    "    \n",
    "for r,_ in enumerate(routes):\n",
    "    print \"Route {}:\\n\".format(r)\n",
    "    print \"\\t\".join(stops[r])\n",
    "    print \"-\" * (len(stops[r])*8)\n",
    "    for k in range(buses[r]):\n",
    "        print \"\\t\".join([str(int(v[a[r][s][k]])) for s,_ in enumerate(stops[r])])\n",
    "        \n",
    "    print \"\"\n",
    "        "
   ]
  },
  {
   "cell_type": "code",
   "execution_count": 37,
   "metadata": {},
   "outputs": [
    {
     "data": {
      "text/html": [
       "<script>requirejs.config({paths: { 'plotly': ['https://cdn.plot.ly/plotly-latest.min']},});if(!window.Plotly) {{require(['plotly'],function(plotly) {window.Plotly=plotly;});}}</script>"
      ],
      "text/vnd.plotly.v1+html": [
       "<script>requirejs.config({paths: { 'plotly': ['https://cdn.plot.ly/plotly-latest.min']},});if(!window.Plotly) {{require(['plotly'],function(plotly) {window.Plotly=plotly;});}}</script>"
      ]
     },
     "metadata": {},
     "output_type": "display_data"
    }
   ],
   "source": [
    "from plotly import __version__\n",
    "from plotly.tools import set_credentials_file\n",
    "from plotly.offline import download_plotlyjs, init_notebook_mode, plot, iplot\n",
    "from plotly.graph_objs import Scatter, Figure, Layout\n",
    "\n",
    "set_credentials_file(username='kelvinlee18', api_key='VEAEhweIN3AloAbkxPD4')\n",
    "init_notebook_mode(connected=True)\n",
    "\n",
    "layout_default = Layout(\n",
    "    height=200,\n",
    "    showlegend = False,\n",
    "    xaxis=dict(\n",
    "        autorange=True,\n",
    "        showgrid=False,\n",
    "        zeroline=False,\n",
    "        showline=False,\n",
    "        autotick=True,\n",
    "        ticks='',\n",
    "        showticklabels=False\n",
    "    ), yaxis=dict(\n",
    "        autorange=True,\n",
    "        showgrid=False,\n",
    "        zeroline=True,\n",
    "        zerolinewidth=1,\n",
    "        zerolinecolor='rgb(.95,.95,.95)',\n",
    "        showline=False,\n",
    "        ticks='',\n",
    "        showticklabels=False\n",
    "    )\n",
    ")\n",
    "\n",
    "def alter_layout(modifications):\n",
    "    layout = layout_default\n",
    "    for k, v in modifications.iteritems():\n",
    "        if isinstance(v, dict):\n",
    "            for k2, v2 in modifications[k].iteritems():\n",
    "                layout[k][k2] = v2\n",
    "        else:\n",
    "            layout[k] = v\n",
    "        \n",
    "    return layout"
   ]
  },
  {
   "cell_type": "code",
   "execution_count": 38,
   "metadata": {
    "scrolled": false
   },
   "outputs": [
    {
     "data": {
      "application/vnd.plotly.v1+json": {
       "data": [
        {
         "hoverinfo": "text",
         "marker": {
          "color": [
           0,
           0,
           0,
           0,
           0,
           0,
           0,
           0,
           0,
           0,
           0,
           0
          ],
          "colorscale": "RdBu",
          "size": 20
         },
         "mode": "markers",
         "opacity": 0.3,
         "text": [
          "<b>Route</b>: R1<br><b>Bus</b>: 5<br><b>Arrival</b>: 2<br><b>Departure</b>: 2",
          "<b>Route</b>: R1<br><b>Bus</b>: 5<br><b>Arrival</b>: 8<br><b>Departure</b>: 10",
          "<b>Route</b>: R1<br><b>Bus</b>: 5<br><b>Arrival</b>: 21<br><b>Departure</b>: 21",
          "<b>Route</b>: R1<br><b>Bus</b>: 5<br><b>Arrival</b>: 28<br><b>Departure</b>: 28",
          "<b>Route</b>: R1<br><b>Bus</b>: 5<br><b>Arrival</b>: 41<br><b>Departure</b>: 43",
          "<b>Route</b>: R1<br><b>Bus</b>: 5<br><b>Arrival</b>: 50<br><b>Departure</b>: 50",
          "<b>Route</b>: R2<br><b>Bus</b>: 5<br><b>Arrival</b>: 3<br><b>Departure</b>: 3",
          "<b>Route</b>: R2<br><b>Bus</b>: 5<br><b>Arrival</b>: 9<br><b>Departure</b>: 9",
          "<b>Route</b>: R2<br><b>Bus</b>: 5<br><b>Arrival</b>: 22<br><b>Departure</b>: 22",
          "<b>Route</b>: R2<br><b>Bus</b>: 5<br><b>Arrival</b>: 25<br><b>Departure</b>: 27",
          "<b>Route</b>: R2<br><b>Bus</b>: 5<br><b>Arrival</b>: 40<br><b>Departure</b>: 42",
          "<b>Route</b>: R2<br><b>Bus</b>: 5<br><b>Arrival</b>: 50<br><b>Departure</b>: 50"
         ],
         "type": "scatter",
         "x": [
          2,
          8,
          21,
          28,
          41,
          50,
          3,
          10,
          22,
          25,
          40,
          50
         ],
         "y": [
          0,
          0,
          0,
          0,
          0,
          0,
          1,
          1,
          1,
          1,
          1,
          1
         ]
        },
        {
         "hoverinfo": "text",
         "marker": {
          "cmax": 1,
          "cmin": 0,
          "color": [
           0,
           0,
           0,
           0,
           0,
           0,
           1,
           1,
           1,
           1,
           1,
           1
          ],
          "colorscale": "Jet",
          "size": 10,
          "symbol": "triangle-right"
         },
         "mode": "markers",
         "text": [
          "<b>Route</b>: R1<br><b>Bus</b>: 5<br><b>Arrival</b>: 2<br><b>Departure</b>: 2",
          "<b>Route</b>: R1<br><b>Bus</b>: 5<br><b>Arrival</b>: 8<br><b>Departure</b>: 10",
          "<b>Route</b>: R1<br><b>Bus</b>: 5<br><b>Arrival</b>: 21<br><b>Departure</b>: 21",
          "<b>Route</b>: R1<br><b>Bus</b>: 5<br><b>Arrival</b>: 28<br><b>Departure</b>: 28",
          "<b>Route</b>: R1<br><b>Bus</b>: 5<br><b>Arrival</b>: 41<br><b>Departure</b>: 43",
          "<b>Route</b>: R1<br><b>Bus</b>: 5<br><b>Arrival</b>: 50<br><b>Departure</b>: 50",
          "<b>Route</b>: R2<br><b>Bus</b>: 5<br><b>Arrival</b>: 3<br><b>Departure</b>: 3",
          "<b>Route</b>: R2<br><b>Bus</b>: 5<br><b>Arrival</b>: 9<br><b>Departure</b>: 9",
          "<b>Route</b>: R2<br><b>Bus</b>: 5<br><b>Arrival</b>: 22<br><b>Departure</b>: 22",
          "<b>Route</b>: R2<br><b>Bus</b>: 5<br><b>Arrival</b>: 25<br><b>Departure</b>: 27",
          "<b>Route</b>: R2<br><b>Bus</b>: 5<br><b>Arrival</b>: 40<br><b>Departure</b>: 42",
          "<b>Route</b>: R2<br><b>Bus</b>: 5<br><b>Arrival</b>: 50<br><b>Departure</b>: 50"
         ],
         "type": "scatter",
         "x": [
          2,
          10,
          21,
          28,
          43,
          50,
          3,
          10,
          22,
          27,
          42,
          50
         ],
         "y": [
          0,
          0,
          0,
          0,
          0,
          0,
          1,
          1,
          1,
          1,
          1,
          1
         ]
        }
       ],
       "layout": {
        "height": 260,
        "hovermode": "closest",
        "showlegend": false,
        "title": "Schedule",
        "xaxis": {
         "autorange": false,
         "autotick": false,
         "dtick": 5,
         "range": [
          -1,
          101
         ],
         "showgrid": true,
         "showline": false,
         "showticklabels": true,
         "ticks": "",
         "zeroline": false
        },
        "yaxis": {
         "autorange": "reversed",
         "showgrid": false,
         "showline": false,
         "showticklabels": true,
         "ticks": "",
         "ticktext": [
          "R1",
          "R2"
         ],
         "tickvals": [
          0,
          1
         ],
         "zeroline": false,
         "zerolinecolor": "rgb(.95,.95,.95)",
         "zerolinewidth": 1
        }
       }
      },
      "text/html": [
       "<div id=\"90f21f11-0784-483b-a819-49b8ec274fe0\" style=\"height: 260px; width: 100%;\" class=\"plotly-graph-div\"></div><script type=\"text/javascript\">require([\"plotly\"], function(Plotly) { window.PLOTLYENV=window.PLOTLYENV || {};window.PLOTLYENV.BASE_URL=\"https://plot.ly\";Plotly.newPlot(\"90f21f11-0784-483b-a819-49b8ec274fe0\", [{\"opacity\": 0.3, \"text\": [\"<b>Route</b>: R1<br><b>Bus</b>: 5<br><b>Arrival</b>: 2<br><b>Departure</b>: 2\", \"<b>Route</b>: R1<br><b>Bus</b>: 5<br><b>Arrival</b>: 8<br><b>Departure</b>: 10\", \"<b>Route</b>: R1<br><b>Bus</b>: 5<br><b>Arrival</b>: 21<br><b>Departure</b>: 21\", \"<b>Route</b>: R1<br><b>Bus</b>: 5<br><b>Arrival</b>: 28<br><b>Departure</b>: 28\", \"<b>Route</b>: R1<br><b>Bus</b>: 5<br><b>Arrival</b>: 41<br><b>Departure</b>: 43\", \"<b>Route</b>: R1<br><b>Bus</b>: 5<br><b>Arrival</b>: 50<br><b>Departure</b>: 50\", \"<b>Route</b>: R2<br><b>Bus</b>: 5<br><b>Arrival</b>: 3<br><b>Departure</b>: 3\", \"<b>Route</b>: R2<br><b>Bus</b>: 5<br><b>Arrival</b>: 9<br><b>Departure</b>: 9\", \"<b>Route</b>: R2<br><b>Bus</b>: 5<br><b>Arrival</b>: 22<br><b>Departure</b>: 22\", \"<b>Route</b>: R2<br><b>Bus</b>: 5<br><b>Arrival</b>: 25<br><b>Departure</b>: 27\", \"<b>Route</b>: R2<br><b>Bus</b>: 5<br><b>Arrival</b>: 40<br><b>Departure</b>: 42\", \"<b>Route</b>: R2<br><b>Bus</b>: 5<br><b>Arrival</b>: 50<br><b>Departure</b>: 50\"], \"marker\": {\"color\": [0, 0, 0, 0, 0, 0, 0, 0, 0, 0, 0, 0], \"colorscale\": \"RdBu\", \"size\": 20}, \"mode\": \"markers\", \"hoverinfo\": \"text\", \"y\": [0, 0, 0, 0, 0, 0, 1, 1, 1, 1, 1, 1], \"x\": [2.0, 8.0, 21.0, 28.0, 41.0, 50.0, 3.0, 10.0, 22.0, 25.0, 40.0, 50.0], \"type\": \"scatter\"}, {\"text\": [\"<b>Route</b>: R1<br><b>Bus</b>: 5<br><b>Arrival</b>: 2<br><b>Departure</b>: 2\", \"<b>Route</b>: R1<br><b>Bus</b>: 5<br><b>Arrival</b>: 8<br><b>Departure</b>: 10\", \"<b>Route</b>: R1<br><b>Bus</b>: 5<br><b>Arrival</b>: 21<br><b>Departure</b>: 21\", \"<b>Route</b>: R1<br><b>Bus</b>: 5<br><b>Arrival</b>: 28<br><b>Departure</b>: 28\", \"<b>Route</b>: R1<br><b>Bus</b>: 5<br><b>Arrival</b>: 41<br><b>Departure</b>: 43\", \"<b>Route</b>: R1<br><b>Bus</b>: 5<br><b>Arrival</b>: 50<br><b>Departure</b>: 50\", \"<b>Route</b>: R2<br><b>Bus</b>: 5<br><b>Arrival</b>: 3<br><b>Departure</b>: 3\", \"<b>Route</b>: R2<br><b>Bus</b>: 5<br><b>Arrival</b>: 9<br><b>Departure</b>: 9\", \"<b>Route</b>: R2<br><b>Bus</b>: 5<br><b>Arrival</b>: 22<br><b>Departure</b>: 22\", \"<b>Route</b>: R2<br><b>Bus</b>: 5<br><b>Arrival</b>: 25<br><b>Departure</b>: 27\", \"<b>Route</b>: R2<br><b>Bus</b>: 5<br><b>Arrival</b>: 40<br><b>Departure</b>: 42\", \"<b>Route</b>: R2<br><b>Bus</b>: 5<br><b>Arrival</b>: 50<br><b>Departure</b>: 50\"], \"marker\": {\"cmin\": 0, \"colorscale\": \"Jet\", \"color\": [0, 0, 0, 0, 0, 0, 1, 1, 1, 1, 1, 1], \"symbol\": \"triangle-right\", \"cmax\": 1, \"size\": 10}, \"mode\": \"markers\", \"hoverinfo\": \"text\", \"y\": [0, 0, 0, 0, 0, 0, 1, 1, 1, 1, 1, 1], \"x\": [2.0, 10.0, 21.0, 28.0, 43.0, 50.0, 3.0, 10.0, 22.0, 27.0, 42.0, 50.0], \"type\": \"scatter\"}], {\"showlegend\": false, \"yaxis\": {\"showticklabels\": true, \"zerolinewidth\": 1, \"ticks\": \"\", \"showgrid\": false, \"zerolinecolor\": \"rgb(.95,.95,.95)\", \"zeroline\": false, \"showline\": false, \"ticktext\": [\"R1\", \"R2\"], \"autorange\": \"reversed\", \"tickvals\": [0, 1]}, \"title\": \"Schedule\", \"height\": 260, \"xaxis\": {\"showticklabels\": true, \"ticks\": \"\", \"dtick\": 5, \"showgrid\": true, \"range\": [-1, 101], \"zeroline\": false, \"showline\": false, \"autotick\": false, \"autorange\": false}, \"hovermode\": \"closest\"}, {\"linkText\": \"Export to plot.ly\", \"showLink\": true})});</script>"
      ],
      "text/vnd.plotly.v1+html": [
       "<div id=\"90f21f11-0784-483b-a819-49b8ec274fe0\" style=\"height: 260px; width: 100%;\" class=\"plotly-graph-div\"></div><script type=\"text/javascript\">require([\"plotly\"], function(Plotly) { window.PLOTLYENV=window.PLOTLYENV || {};window.PLOTLYENV.BASE_URL=\"https://plot.ly\";Plotly.newPlot(\"90f21f11-0784-483b-a819-49b8ec274fe0\", [{\"opacity\": 0.3, \"text\": [\"<b>Route</b>: R1<br><b>Bus</b>: 5<br><b>Arrival</b>: 2<br><b>Departure</b>: 2\", \"<b>Route</b>: R1<br><b>Bus</b>: 5<br><b>Arrival</b>: 8<br><b>Departure</b>: 10\", \"<b>Route</b>: R1<br><b>Bus</b>: 5<br><b>Arrival</b>: 21<br><b>Departure</b>: 21\", \"<b>Route</b>: R1<br><b>Bus</b>: 5<br><b>Arrival</b>: 28<br><b>Departure</b>: 28\", \"<b>Route</b>: R1<br><b>Bus</b>: 5<br><b>Arrival</b>: 41<br><b>Departure</b>: 43\", \"<b>Route</b>: R1<br><b>Bus</b>: 5<br><b>Arrival</b>: 50<br><b>Departure</b>: 50\", \"<b>Route</b>: R2<br><b>Bus</b>: 5<br><b>Arrival</b>: 3<br><b>Departure</b>: 3\", \"<b>Route</b>: R2<br><b>Bus</b>: 5<br><b>Arrival</b>: 9<br><b>Departure</b>: 9\", \"<b>Route</b>: R2<br><b>Bus</b>: 5<br><b>Arrival</b>: 22<br><b>Departure</b>: 22\", \"<b>Route</b>: R2<br><b>Bus</b>: 5<br><b>Arrival</b>: 25<br><b>Departure</b>: 27\", \"<b>Route</b>: R2<br><b>Bus</b>: 5<br><b>Arrival</b>: 40<br><b>Departure</b>: 42\", \"<b>Route</b>: R2<br><b>Bus</b>: 5<br><b>Arrival</b>: 50<br><b>Departure</b>: 50\"], \"marker\": {\"color\": [0, 0, 0, 0, 0, 0, 0, 0, 0, 0, 0, 0], \"colorscale\": \"RdBu\", \"size\": 20}, \"mode\": \"markers\", \"hoverinfo\": \"text\", \"y\": [0, 0, 0, 0, 0, 0, 1, 1, 1, 1, 1, 1], \"x\": [2.0, 8.0, 21.0, 28.0, 41.0, 50.0, 3.0, 10.0, 22.0, 25.0, 40.0, 50.0], \"type\": \"scatter\"}, {\"text\": [\"<b>Route</b>: R1<br><b>Bus</b>: 5<br><b>Arrival</b>: 2<br><b>Departure</b>: 2\", \"<b>Route</b>: R1<br><b>Bus</b>: 5<br><b>Arrival</b>: 8<br><b>Departure</b>: 10\", \"<b>Route</b>: R1<br><b>Bus</b>: 5<br><b>Arrival</b>: 21<br><b>Departure</b>: 21\", \"<b>Route</b>: R1<br><b>Bus</b>: 5<br><b>Arrival</b>: 28<br><b>Departure</b>: 28\", \"<b>Route</b>: R1<br><b>Bus</b>: 5<br><b>Arrival</b>: 41<br><b>Departure</b>: 43\", \"<b>Route</b>: R1<br><b>Bus</b>: 5<br><b>Arrival</b>: 50<br><b>Departure</b>: 50\", \"<b>Route</b>: R2<br><b>Bus</b>: 5<br><b>Arrival</b>: 3<br><b>Departure</b>: 3\", \"<b>Route</b>: R2<br><b>Bus</b>: 5<br><b>Arrival</b>: 9<br><b>Departure</b>: 9\", \"<b>Route</b>: R2<br><b>Bus</b>: 5<br><b>Arrival</b>: 22<br><b>Departure</b>: 22\", \"<b>Route</b>: R2<br><b>Bus</b>: 5<br><b>Arrival</b>: 25<br><b>Departure</b>: 27\", \"<b>Route</b>: R2<br><b>Bus</b>: 5<br><b>Arrival</b>: 40<br><b>Departure</b>: 42\", \"<b>Route</b>: R2<br><b>Bus</b>: 5<br><b>Arrival</b>: 50<br><b>Departure</b>: 50\"], \"marker\": {\"cmin\": 0, \"colorscale\": \"Jet\", \"color\": [0, 0, 0, 0, 0, 0, 1, 1, 1, 1, 1, 1], \"symbol\": \"triangle-right\", \"cmax\": 1, \"size\": 10}, \"mode\": \"markers\", \"hoverinfo\": \"text\", \"y\": [0, 0, 0, 0, 0, 0, 1, 1, 1, 1, 1, 1], \"x\": [2.0, 10.0, 21.0, 28.0, 43.0, 50.0, 3.0, 10.0, 22.0, 27.0, 42.0, 50.0], \"type\": \"scatter\"}], {\"showlegend\": false, \"yaxis\": {\"showticklabels\": true, \"zerolinewidth\": 1, \"ticks\": \"\", \"showgrid\": false, \"zerolinecolor\": \"rgb(.95,.95,.95)\", \"zeroline\": false, \"showline\": false, \"ticktext\": [\"R1\", \"R2\"], \"autorange\": \"reversed\", \"tickvals\": [0, 1]}, \"title\": \"Schedule\", \"height\": 260, \"xaxis\": {\"showticklabels\": true, \"ticks\": \"\", \"dtick\": 5, \"showgrid\": true, \"range\": [-1, 101], \"zeroline\": false, \"showline\": false, \"autotick\": false, \"autorange\": false}, \"hovermode\": \"closest\"}, {\"linkText\": \"Export to plot.ly\", \"showLink\": true})});</script>"
      ]
     },
     "metadata": {},
     "output_type": "display_data"
    }
   ],
   "source": [
    "departures = []\n",
    "arrivals = []\n",
    "\n",
    "for r, _ in enumerate(routes):\n",
    "    departures.append([])\n",
    "    arrivals.append([])\n",
    "    \n",
    "    departures[r] = [v[d[r][0][k]] for k in range(buses[r])]\n",
    "    arrivals[r] = [v[a[r][0][k]] for k in range(buses[r])]\n",
    "\n",
    "x_departure = []\n",
    "y_departure = []\n",
    "text_departure = []\n",
    "\n",
    "x_arrival = []\n",
    "y_arrival = []\n",
    "text_arrival = []\n",
    "\n",
    "traces = []\n",
    "\n",
    "for r, (departure, arrival) in enumerate(zip(departures, arrivals)):\n",
    "    x_arrival += arrival\n",
    "    y_arrival += [r] * len(arrival)\n",
    "    text_arrival += [\"<b>Route</b>: {}<br><b>Bus</b>: {}<br><b>Arrival</b>: {}<br><b>Departure</b>: {}\".format(routes[r], k, int(arr), int(dep)) for dep, arr in zip(departure, arrival)]\n",
    "    \n",
    "    x_departure += departure\n",
    "    y_departure += [r] * len(departure)\n",
    "    text_departure += [\"<b>Route</b>: {}<br><b>Bus</b>: {}<br><b>Arrival</b>: {}<br><b>Departure</b>: {}\".format(routes[r], k, int(arr), int(dep)) for dep, arr in zip(departure, arrival)]\n",
    "    \n",
    "traces.append(Scatter(\n",
    "    x = map(round, x_arrival),\n",
    "    y = y_arrival,\n",
    "    mode = 'markers',\n",
    "    marker = dict(\n",
    "        size = 20,\n",
    "        color = [0] * len(x_arrival),\n",
    "        colorscale = 'RdBu',\n",
    "    ),\n",
    "    hoverinfo = \"text\",\n",
    "    text = text_departure,\n",
    "    opacity = .3\n",
    "))\n",
    "\n",
    "traces.append(Scatter(\n",
    "    x = map(round, x_departure),\n",
    "    y = y_departure,\n",
    "    mode = 'markers',\n",
    "    marker = dict(\n",
    "        symbol = \"triangle-right\",\n",
    "        size = 10,\n",
    "        color = y_departure,\n",
    "        colorscale = 'Jet',\n",
    "        cmin = 0,\n",
    "        cmax = len(routes)-1\n",
    "    ),\n",
    "    hoverinfo = \"text\",\n",
    "    text = text_arrival\n",
    "))\n",
    "                    \n",
    "lo = alter_layout({\n",
    "    'title'  : \"Schedule\",\n",
    "    'hovermode': \"closest\",\n",
    "    'height' : 100+80*len(routes),\n",
    "    'yaxis'  : {'zeroline': False, 'showgrid': False, 'tickvals': range(len(routes)), 'ticktext': routes, 'showticklabels': True, 'autorange': 'reversed'},\n",
    "    'xaxis'  : {'autorange': False, 'range': [-1, plan_horizon+1], 'showgrid': True, 'autotick': False, 'dtick': 5, 'showticklabels': True},\n",
    "})\n",
    "\n",
    "fig = Figure(data=traces, layout=lo)\n",
    "iplot(fig, filename='ISTTT23_departures')"
   ]
  },
  {
   "cell_type": "code",
   "execution_count": 39,
   "metadata": {
    "scrolled": false
   },
   "outputs": [
    {
     "data": {
      "application/vnd.plotly.v1+json": {
       "data": [
        {
         "hoverinfo": "text",
         "marker": {
          "cmax": 1,
          "cmin": 0,
          "color": [
           1,
           1,
           1,
           1,
           1,
           1,
           0,
           0,
           0,
           0,
           0,
           0,
           1,
           1,
           1,
           1,
           1,
           1,
           0,
           0,
           0,
           0,
           0,
           0
          ],
          "colorscale": "Jet",
          "size": 20
         },
         "mode": "markers",
         "text": [
          "<b>Arrival</b>: 13.0<br><b>Connects</b>:R1-1",
          "<b>Arrival</b>: 20.0<br><b>Connects</b>:R1-2",
          "<b>Arrival</b>: 33.0<br><b>Connects</b>:R1-3",
          "<b>Arrival</b>: 39.0<br><b>Connects</b>:R1-4",
          "<b>Arrival</b>: 53.0<br><b>Connects</b>:R1-5",
          "<b>Arrival</b>: 58.0<br><b>Connects</b>:NC",
          "<b>Arrival</b>: 10.0<br><b>Connects</b>:R2-0",
          "<b>Arrival</b>: 17.0<br><b>Connects</b>:R2-1",
          "<b>Arrival</b>: 28.0<br><b>Connects</b>:R2-2",
          "<b>Arrival</b>: 35.0<br><b>Connects</b>:R2-3",
          "<b>Arrival</b>: 49.0<br><b>Connects</b>:R2-4",
          "<b>Arrival</b>: 55.0<br><b>Connects</b>:NC",
          "<b>Arrival</b>: 5.0<br><b>Connects</b>:R1-0",
          "<b>Arrival</b>: 13.0<br><b>Connects</b>:R1-1",
          "<b>Arrival</b>: 24.0<br><b>Connects</b>:R1-2",
          "<b>Arrival</b>: 30.0<br><b>Connects</b>:R1-3",
          "<b>Arrival</b>: 45.0<br><b>Connects</b>:R1-4",
          "<b>Arrival</b>: 52.0<br><b>Connects</b>:NC",
          "<b>Arrival</b>: 5.0<br><b>Connects</b>:R2-0",
          "<b>Arrival</b>: 13.0<br><b>Connects</b>:R2-1",
          "<b>Arrival</b>: 24.0<br><b>Connects</b>:R2-2",
          "<b>Arrival</b>: 30.0<br><b>Connects</b>:R2-3",
          "<b>Arrival</b>: 45.0<br><b>Connects</b>:R2-4",
          "<b>Arrival</b>: 52.0<br><b>Connects</b>:NC"
         ],
         "type": "scatter",
         "x": [
          13,
          20,
          33,
          39,
          53,
          58,
          10,
          17,
          28,
          35,
          49,
          55,
          5,
          13,
          24,
          30,
          45,
          52,
          5,
          13,
          24,
          30,
          45,
          52
         ],
         "y": [
          0,
          0,
          0,
          0,
          0,
          0,
          1,
          1,
          1,
          1,
          1,
          1,
          2,
          2,
          2,
          2,
          2,
          2,
          3,
          3,
          3,
          3,
          3,
          3
         ]
        },
        {
         "hoverinfo": "text",
         "marker": {
          "cmax": 1,
          "cmin": 0,
          "color": [
           0,
           0,
           0,
           0,
           0,
           0,
           1,
           1,
           1,
           1,
           1,
           1,
           0,
           0,
           0,
           0,
           0,
           0,
           1,
           1,
           1,
           1,
           1,
           1
          ],
          "colorscale": "Jet",
          "size": 10,
          "symbol": "triangle-right"
         },
         "mode": "markers",
         "text": [
          "R1-0",
          "R1-1",
          "R1-2",
          "R1-3",
          "R1-4",
          "R1-5",
          "R2-0",
          "R2-1",
          "R2-2",
          "R2-3",
          "R2-4",
          "R2-5",
          "R1-0",
          "R1-1",
          "R1-2",
          "R1-3",
          "R1-4",
          "R1-5",
          "R2-0",
          "R2-1",
          "R2-2",
          "R2-3",
          "R2-4",
          "R2-5"
         ],
         "type": "scatter",
         "x": [
          11,
          17,
          28,
          35,
          49,
          55,
          13,
          20,
          33,
          39,
          53,
          58,
          7,
          15,
          26,
          32,
          47,
          53,
          7,
          15,
          26,
          32,
          47,
          53
         ],
         "y": [
          0,
          0,
          0,
          0,
          0,
          0,
          1,
          1,
          1,
          1,
          1,
          1,
          2,
          2,
          2,
          2,
          2,
          2,
          3,
          3,
          3,
          3,
          3,
          3
         ]
        }
       ],
       "layout": {
        "height": 340,
        "hovermode": "closest",
        "showlegend": false,
        "title": "Transfers",
        "xaxis": {
         "autorange": false,
         "autotick": false,
         "dtick": 5,
         "range": [
          -1,
          101
         ],
         "showgrid": true,
         "showline": false,
         "showticklabels": true,
         "ticks": "",
         "zeroline": false
        },
        "yaxis": {
         "autorange": false,
         "showgrid": false,
         "showline": false,
         "showticklabels": true,
         "ticks": "",
         "ticktext": [
          "R2_R1_C",
          "R1_R2_C",
          "R2_R1_B",
          "R1_R2_B"
         ],
         "tickvals": [
          0,
          1,
          2,
          3
         ],
         "zeroline": false,
         "zerolinecolor": "rgb(.95,.95,.95)",
         "zerolinewidth": 1
        }
       }
      },
      "text/html": [
       "<div id=\"cbacc099-d7b8-4c83-b460-3f78fda8d037\" style=\"height: 340px; width: 100%;\" class=\"plotly-graph-div\"></div><script type=\"text/javascript\">require([\"plotly\"], function(Plotly) { window.PLOTLYENV=window.PLOTLYENV || {};window.PLOTLYENV.BASE_URL=\"https://plot.ly\";Plotly.newPlot(\"cbacc099-d7b8-4c83-b460-3f78fda8d037\", [{\"text\": [\"<b>Arrival</b>: 13.0<br><b>Connects</b>:R1-1\", \"<b>Arrival</b>: 20.0<br><b>Connects</b>:R1-2\", \"<b>Arrival</b>: 33.0<br><b>Connects</b>:R1-3\", \"<b>Arrival</b>: 39.0<br><b>Connects</b>:R1-4\", \"<b>Arrival</b>: 53.0<br><b>Connects</b>:R1-5\", \"<b>Arrival</b>: 58.0<br><b>Connects</b>:NC\", \"<b>Arrival</b>: 10.0<br><b>Connects</b>:R2-0\", \"<b>Arrival</b>: 17.0<br><b>Connects</b>:R2-1\", \"<b>Arrival</b>: 28.0<br><b>Connects</b>:R2-2\", \"<b>Arrival</b>: 35.0<br><b>Connects</b>:R2-3\", \"<b>Arrival</b>: 49.0<br><b>Connects</b>:R2-4\", \"<b>Arrival</b>: 55.0<br><b>Connects</b>:NC\", \"<b>Arrival</b>: 5.0<br><b>Connects</b>:R1-0\", \"<b>Arrival</b>: 13.0<br><b>Connects</b>:R1-1\", \"<b>Arrival</b>: 24.0<br><b>Connects</b>:R1-2\", \"<b>Arrival</b>: 30.0<br><b>Connects</b>:R1-3\", \"<b>Arrival</b>: 45.0<br><b>Connects</b>:R1-4\", \"<b>Arrival</b>: 52.0<br><b>Connects</b>:NC\", \"<b>Arrival</b>: 5.0<br><b>Connects</b>:R2-0\", \"<b>Arrival</b>: 13.0<br><b>Connects</b>:R2-1\", \"<b>Arrival</b>: 24.0<br><b>Connects</b>:R2-2\", \"<b>Arrival</b>: 30.0<br><b>Connects</b>:R2-3\", \"<b>Arrival</b>: 45.0<br><b>Connects</b>:R2-4\", \"<b>Arrival</b>: 52.0<br><b>Connects</b>:NC\"], \"marker\": {\"color\": [1, 1, 1, 1, 1, 1, 0, 0, 0, 0, 0, 0, 1, 1, 1, 1, 1, 1, 0, 0, 0, 0, 0, 0], \"colorscale\": \"Jet\", \"cmax\": 1, \"cmin\": 0, \"size\": 20}, \"mode\": \"markers\", \"hoverinfo\": \"text\", \"y\": [0, 0, 0, 0, 0, 0, 1, 1, 1, 1, 1, 1, 2, 2, 2, 2, 2, 2, 3, 3, 3, 3, 3, 3], \"x\": [13.0, 20.0, 33.0, 39.0, 53.0, 58.0, 10.0, 17.0, 28.0, 35.0, 49.0, 55.0, 5.0, 13.0, 24.0, 30.0, 45.0, 52.0, 5.0, 13.0, 24.0, 30.0, 45.0, 52.0], \"type\": \"scatter\"}, {\"text\": [\"R1-0\", \"R1-1\", \"R1-2\", \"R1-3\", \"R1-4\", \"R1-5\", \"R2-0\", \"R2-1\", \"R2-2\", \"R2-3\", \"R2-4\", \"R2-5\", \"R1-0\", \"R1-1\", \"R1-2\", \"R1-3\", \"R1-4\", \"R1-5\", \"R2-0\", \"R2-1\", \"R2-2\", \"R2-3\", \"R2-4\", \"R2-5\"], \"marker\": {\"cmin\": 0, \"colorscale\": \"Jet\", \"color\": [0, 0, 0, 0, 0, 0, 1, 1, 1, 1, 1, 1, 0, 0, 0, 0, 0, 0, 1, 1, 1, 1, 1, 1], \"symbol\": \"triangle-right\", \"cmax\": 1, \"size\": 10}, \"mode\": \"markers\", \"hoverinfo\": \"text\", \"y\": [0, 0, 0, 0, 0, 0, 1, 1, 1, 1, 1, 1, 2, 2, 2, 2, 2, 2, 3, 3, 3, 3, 3, 3], \"x\": [11.0, 17.0, 28.0, 35.0, 49.0, 55.0, 13.0, 20.0, 33.0, 39.0, 53.0, 58.0, 7.0, 15.0, 26.0, 32.0, 47.0, 53.0, 7.0, 15.0, 26.0, 32.0, 47.0, 53.0], \"type\": \"scatter\"}], {\"showlegend\": false, \"yaxis\": {\"showticklabels\": true, \"zerolinewidth\": 1, \"ticks\": \"\", \"showgrid\": false, \"zerolinecolor\": \"rgb(.95,.95,.95)\", \"zeroline\": false, \"showline\": false, \"ticktext\": [\"R2_R1_C\", \"R1_R2_C\", \"R2_R1_B\", \"R1_R2_B\"], \"autorange\": false, \"tickvals\": [0, 1, 2, 3]}, \"title\": \"Transfers\", \"height\": 340, \"xaxis\": {\"showticklabels\": true, \"ticks\": \"\", \"dtick\": 5, \"showgrid\": true, \"range\": [-1, 101], \"zeroline\": false, \"showline\": false, \"autotick\": false, \"autorange\": false}, \"hovermode\": \"closest\"}, {\"linkText\": \"Export to plot.ly\", \"showLink\": true})});</script>"
      ],
      "text/vnd.plotly.v1+html": [
       "<div id=\"cbacc099-d7b8-4c83-b460-3f78fda8d037\" style=\"height: 340px; width: 100%;\" class=\"plotly-graph-div\"></div><script type=\"text/javascript\">require([\"plotly\"], function(Plotly) { window.PLOTLYENV=window.PLOTLYENV || {};window.PLOTLYENV.BASE_URL=\"https://plot.ly\";Plotly.newPlot(\"cbacc099-d7b8-4c83-b460-3f78fda8d037\", [{\"text\": [\"<b>Arrival</b>: 13.0<br><b>Connects</b>:R1-1\", \"<b>Arrival</b>: 20.0<br><b>Connects</b>:R1-2\", \"<b>Arrival</b>: 33.0<br><b>Connects</b>:R1-3\", \"<b>Arrival</b>: 39.0<br><b>Connects</b>:R1-4\", \"<b>Arrival</b>: 53.0<br><b>Connects</b>:R1-5\", \"<b>Arrival</b>: 58.0<br><b>Connects</b>:NC\", \"<b>Arrival</b>: 10.0<br><b>Connects</b>:R2-0\", \"<b>Arrival</b>: 17.0<br><b>Connects</b>:R2-1\", \"<b>Arrival</b>: 28.0<br><b>Connects</b>:R2-2\", \"<b>Arrival</b>: 35.0<br><b>Connects</b>:R2-3\", \"<b>Arrival</b>: 49.0<br><b>Connects</b>:R2-4\", \"<b>Arrival</b>: 55.0<br><b>Connects</b>:NC\", \"<b>Arrival</b>: 5.0<br><b>Connects</b>:R1-0\", \"<b>Arrival</b>: 13.0<br><b>Connects</b>:R1-1\", \"<b>Arrival</b>: 24.0<br><b>Connects</b>:R1-2\", \"<b>Arrival</b>: 30.0<br><b>Connects</b>:R1-3\", \"<b>Arrival</b>: 45.0<br><b>Connects</b>:R1-4\", \"<b>Arrival</b>: 52.0<br><b>Connects</b>:NC\", \"<b>Arrival</b>: 5.0<br><b>Connects</b>:R2-0\", \"<b>Arrival</b>: 13.0<br><b>Connects</b>:R2-1\", \"<b>Arrival</b>: 24.0<br><b>Connects</b>:R2-2\", \"<b>Arrival</b>: 30.0<br><b>Connects</b>:R2-3\", \"<b>Arrival</b>: 45.0<br><b>Connects</b>:R2-4\", \"<b>Arrival</b>: 52.0<br><b>Connects</b>:NC\"], \"marker\": {\"color\": [1, 1, 1, 1, 1, 1, 0, 0, 0, 0, 0, 0, 1, 1, 1, 1, 1, 1, 0, 0, 0, 0, 0, 0], \"colorscale\": \"Jet\", \"cmax\": 1, \"cmin\": 0, \"size\": 20}, \"mode\": \"markers\", \"hoverinfo\": \"text\", \"y\": [0, 0, 0, 0, 0, 0, 1, 1, 1, 1, 1, 1, 2, 2, 2, 2, 2, 2, 3, 3, 3, 3, 3, 3], \"x\": [13.0, 20.0, 33.0, 39.0, 53.0, 58.0, 10.0, 17.0, 28.0, 35.0, 49.0, 55.0, 5.0, 13.0, 24.0, 30.0, 45.0, 52.0, 5.0, 13.0, 24.0, 30.0, 45.0, 52.0], \"type\": \"scatter\"}, {\"text\": [\"R1-0\", \"R1-1\", \"R1-2\", \"R1-3\", \"R1-4\", \"R1-5\", \"R2-0\", \"R2-1\", \"R2-2\", \"R2-3\", \"R2-4\", \"R2-5\", \"R1-0\", \"R1-1\", \"R1-2\", \"R1-3\", \"R1-4\", \"R1-5\", \"R2-0\", \"R2-1\", \"R2-2\", \"R2-3\", \"R2-4\", \"R2-5\"], \"marker\": {\"cmin\": 0, \"colorscale\": \"Jet\", \"color\": [0, 0, 0, 0, 0, 0, 1, 1, 1, 1, 1, 1, 0, 0, 0, 0, 0, 0, 1, 1, 1, 1, 1, 1], \"symbol\": \"triangle-right\", \"cmax\": 1, \"size\": 10}, \"mode\": \"markers\", \"hoverinfo\": \"text\", \"y\": [0, 0, 0, 0, 0, 0, 1, 1, 1, 1, 1, 1, 2, 2, 2, 2, 2, 2, 3, 3, 3, 3, 3, 3], \"x\": [11.0, 17.0, 28.0, 35.0, 49.0, 55.0, 13.0, 20.0, 33.0, 39.0, 53.0, 58.0, 7.0, 15.0, 26.0, 32.0, 47.0, 53.0, 7.0, 15.0, 26.0, 32.0, 47.0, 53.0], \"type\": \"scatter\"}], {\"showlegend\": false, \"yaxis\": {\"showticklabels\": true, \"zerolinewidth\": 1, \"ticks\": \"\", \"showgrid\": false, \"zerolinecolor\": \"rgb(.95,.95,.95)\", \"zeroline\": false, \"showline\": false, \"ticktext\": [\"R2_R1_C\", \"R1_R2_C\", \"R2_R1_B\", \"R1_R2_B\"], \"autorange\": false, \"tickvals\": [0, 1, 2, 3]}, \"title\": \"Transfers\", \"height\": 340, \"xaxis\": {\"showticklabels\": true, \"ticks\": \"\", \"dtick\": 5, \"showgrid\": true, \"range\": [-1, 101], \"zeroline\": false, \"showline\": false, \"autotick\": false, \"autorange\": false}, \"hovermode\": \"closest\"}, {\"linkText\": \"Export to plot.ly\", \"showLink\": true})});</script>"
      ]
     },
     "metadata": {},
     "output_type": "display_data"
    }
   ],
   "source": [
    "x_departure = []\n",
    "y_departure = []\n",
    "r_arrival = []\n",
    "text_departure = []\n",
    "\n",
    "x_arrival = []\n",
    "y_arrival = []\n",
    "r_departure = []\n",
    "text_arrival = []\n",
    "\n",
    "traces = []\n",
    "\n",
    "for t, (r, rp, s) in enumerate(transfers):\n",
    "    stop_r = stops[r].index(s)\n",
    "    stop_rp = stops[rp].index(s)\n",
    "    \n",
    "    x_arrival += [v[a[r][stop_r][k]] for k in range(buses[r])]\n",
    "    y_arrival += [t] * buses[r]\n",
    "    r_arrival += [r] * buses[r]\n",
    "    \n",
    "    for k in range(buses[r]):\n",
    "        match = 0\n",
    "        for kt in range(buses[rp]):\n",
    "            if abs(v[c[r][rp][s][k][kt]] - 1) <= 0.00001:\n",
    "                text_arrival.append('<b>Arrival</b>: {}<br><b>Connects</b>:{}'.format(round(v[a[r][stop_r][k]]), routes[rp]+'-'+str(kt)))\n",
    "                match = 1\n",
    "                break\n",
    "        \n",
    "        if not match:\n",
    "            text_arrival.append('<b>Arrival</b>: {}<br><b>Connects</b>:{}'.format(round(v[a[r][stop_r][k]]), 'NC'))\n",
    "    \n",
    "    x_departure += [v[d[rp][stop_rp][kp]] for kp in range(buses[rp])]\n",
    "    y_departure += [t] * buses[rp]\n",
    "    r_departure += [rp] * buses[rp]\n",
    "    text_departure += ['{}-{}'.format(routes[rp], kp) for kp in range(buses[rp])]\n",
    "    \n",
    "traces.append(Scatter(\n",
    "    x = map(round, x_arrival),\n",
    "    y = y_arrival,\n",
    "    mode = 'markers',\n",
    "    marker = dict(\n",
    "        size = 20,\n",
    "        color = r_arrival,\n",
    "        colorscale = 'Jet',\n",
    "        cmin = 0,\n",
    "        cmax = len(routes)-1\n",
    "    ),\n",
    "    hoverinfo = \"text\",\n",
    "    text = text_arrival\n",
    "))\n",
    "\n",
    "traces.append(Scatter(\n",
    "    x = map(round, x_departure),\n",
    "    y = y_departure,\n",
    "    mode = 'markers',\n",
    "    marker = dict(\n",
    "        symbol = \"triangle-right\",\n",
    "        size = 10,\n",
    "        color = r_departure,\n",
    "        colorscale = 'Jet',\n",
    "        cmin = 0,\n",
    "        cmax = len(routes)-1\n",
    "    ),\n",
    "    hoverinfo = \"text\",\n",
    "    text = text_departure\n",
    "))\n",
    "                    \n",
    "lo = alter_layout({\n",
    "    'title'  : \"Transfers\",\n",
    "    'hovermode': \"closest\",\n",
    "    'height' : 100+60*len(transfers),\n",
    "    'yaxis'  : {'zeroline': False, 'showgrid': False, 'tickvals': range(len(transfers)), 'ticktext': ['{}_{}_{}'.format(routes[r], routes[rp], s) for r, rp, s in transfers], 'showticklabels': True, 'autorange': False},\n",
    "    'xaxis'  : {'autorange': False, 'range': [-1, plan_horizon+1], 'showgrid': True, 'autotick': False, 'dtick': 5, 'showticklabels': True},\n",
    "})\n",
    "\n",
    "fig = Figure(data=traces, layout=lo)\n",
    "iplot(fig, filename='ISTTT23_transfers')"
   ]
  },
  {
   "cell_type": "code",
   "execution_count": 40,
   "metadata": {},
   "outputs": [
    {
     "data": {
      "application/vnd.plotly.v1+json": {
       "data": [
        {
         "hoverinfo": "text",
         "marker": {
          "cmax": 1,
          "cmin": -1,
          "color": [
           0,
           0,
           0,
           0
          ],
          "colorscale": "RdBu",
          "size": 10
         },
         "mode": "markers",
         "type": "scatter",
         "x": [
          10,
          37,
          40,
          13
         ],
         "y": [
          0,
          1,
          2,
          3
         ]
        },
        {
         "hoverinfo": "text",
         "line": {
          "color": "rgb(0.0, 0.0, 0.5)",
          "width": 5
         },
         "marker": {
          "cmax": 1,
          "cmin": 0,
          "color": [
           0,
           0
          ],
          "colorscale": "Jet",
          "size": 10
         },
         "mode": "lines+markers",
         "text": [
          "<b>Bus</b>: R0-1<br><b>Departs</b>: 10.0",
          "<b>Bus</b>: R0-1<br><b>Arrives</b>: 17.0<br><b>Transfer time</b>: 3"
         ],
         "type": "scatter",
         "x": [
          10,
          17
         ],
         "y": [
          0,
          0
         ]
        },
        {
         "hoverinfo": "text",
         "line": {
          "color": "rgb(0.5, 0.0, 0.0)",
          "width": 5
         },
         "marker": {
          "cmax": 1,
          "cmin": 0,
          "color": [
           1,
           1
          ],
          "colorscale": "Jet",
          "size": 10
         },
         "mode": "lines+markers",
         "text": [
          "<b>Bus</b>: R1-1<br><b>Departs</b>: 20.0",
          ""
         ],
         "type": "scatter",
         "x": [
          20,
          30
         ],
         "y": [
          0,
          0
         ]
        },
        {
         "hoverinfo": "text",
         "line": {
          "color": "rgb(0.5, 0.0, 0.0)",
          "width": 5
         },
         "marker": {
          "cmax": 1,
          "cmin": 0,
          "color": [
           1,
           1
          ],
          "colorscale": "Jet",
          "size": 10
         },
         "mode": "lines+markers",
         "text": [
          "<b>Bus</b>: R1-4<br><b>Departs</b>: 42.0",
          "<b>Bus</b>: R1-4<br><b>Arrives</b>: 45.0<br><b>Transfer time</b>: 2"
         ],
         "type": "scatter",
         "x": [
          42,
          45
         ],
         "y": [
          1,
          1
         ]
        },
        {
         "hoverinfo": "text",
         "line": {
          "color": "rgb(0.0, 0.0, 0.5)",
          "width": 5
         },
         "marker": {
          "cmax": 1,
          "cmin": 0,
          "color": [
           0,
           0
          ],
          "colorscale": "Jet",
          "size": 10
         },
         "mode": "lines+markers",
         "text": [
          "<b>Bus</b>: R0-4<br><b>Departs</b>: 47.0",
          ""
         ],
         "type": "scatter",
         "x": [
          47,
          57
         ],
         "y": [
          1,
          1
         ]
        },
        {
         "hoverinfo": "text",
         "line": {
          "color": "rgb(0.0, 0.0, 0.5)",
          "width": 5
         },
         "marker": {
          "cmax": 1,
          "cmin": 0,
          "color": [
           0,
           0
          ],
          "colorscale": "Jet",
          "size": 10
         },
         "mode": "lines+markers",
         "text": [
          "<b>Bus</b>: R0-4<br><b>Departs</b>: 43.0",
          "<b>Bus</b>: R0-4<br><b>Arrives</b>: 45.0<br><b>Transfer time</b>: 2"
         ],
         "type": "scatter",
         "x": [
          43,
          45
         ],
         "y": [
          2,
          2
         ]
        },
        {
         "hoverinfo": "text",
         "line": {
          "color": "rgb(0.5, 0.0, 0.0)",
          "width": 5
         },
         "marker": {
          "cmax": 1,
          "cmin": 0,
          "color": [
           1,
           1
          ],
          "colorscale": "Jet",
          "size": 10
         },
         "mode": "lines+markers",
         "text": [
          "<b>Bus</b>: R1-4<br><b>Departs</b>: 47.0",
          "<b>Bus</b>: R1-4<br><b>Arrives</b>: 53.0<br><b>Transfer time</b>: 2"
         ],
         "type": "scatter",
         "x": [
          47,
          53
         ],
         "y": [
          2,
          2
         ]
        },
        {
         "hoverinfo": "text",
         "line": {
          "color": "rgb(0.0, 0.0, 0.5)",
          "width": 5
         },
         "marker": {
          "cmax": 1,
          "cmin": 0,
          "color": [
           0,
           0
          ],
          "colorscale": "Jet",
          "size": 10
         },
         "mode": "lines+markers",
         "text": [
          "<b>Bus</b>: R0-5<br><b>Departs</b>: 55.0",
          ""
         ],
         "type": "scatter",
         "x": [
          55,
          65
         ],
         "y": [
          2,
          2
         ]
        },
        {
         "hoverinfo": "text",
         "line": {
          "color": "rgb(0.5, 0.0, 0.0)",
          "width": 5
         },
         "marker": {
          "cmax": 1,
          "cmin": 0,
          "color": [
           1,
           1
          ],
          "colorscale": "Jet",
          "size": 10
         },
         "mode": "lines+markers",
         "text": [
          "<b>Bus</b>: R1-2<br><b>Departs</b>: 22.0",
          "<b>Bus</b>: R1-2<br><b>Arrives</b>: 33.0<br><b>Transfer time</b>: 2"
         ],
         "type": "scatter",
         "x": [
          22,
          33
         ],
         "y": [
          3,
          3
         ]
        },
        {
         "hoverinfo": "text",
         "line": {
          "color": "rgb(0.0, 0.0, 0.5)",
          "width": 5
         },
         "marker": {
          "cmax": 1,
          "cmin": 0,
          "color": [
           0,
           0
          ],
          "colorscale": "Jet",
          "size": 10
         },
         "mode": "lines+markers",
         "text": [
          "<b>Bus</b>: R0-3<br><b>Departs</b>: 35.0",
          ""
         ],
         "type": "scatter",
         "x": [
          35,
          45
         ],
         "y": [
          3,
          3
         ]
        }
       ],
       "layout": {
        "height": 300,
        "hovermode": "closest",
        "showlegend": false,
        "title": "Groups",
        "xaxis": {
         "autorange": false,
         "autotick": false,
         "dtick": 5,
         "range": [
          -1,
          101
         ],
         "showgrid": true,
         "showline": false,
         "showticklabels": true,
         "ticks": "",
         "zeroline": false
        },
        "yaxis": {
         "autorange": "reversed",
         "showgrid": false,
         "showline": false,
         "showticklabels": true,
         "ticks": "",
         "ticktext": [
          "G0",
          "G1",
          "G2",
          "G3"
         ],
         "tickvals": [
          0,
          1,
          2,
          3
         ],
         "zeroline": false,
         "zerolinecolor": "rgb(.95,.95,.95)",
         "zerolinewidth": 1
        }
       }
      },
      "text/html": [
       "<div id=\"5d165554-e9c8-440c-a8c3-6ca053ad1897\" style=\"height: 300px; width: 100%;\" class=\"plotly-graph-div\"></div><script type=\"text/javascript\">require([\"plotly\"], function(Plotly) { window.PLOTLYENV=window.PLOTLYENV || {};window.PLOTLYENV.BASE_URL=\"https://plot.ly\";Plotly.newPlot(\"5d165554-e9c8-440c-a8c3-6ca053ad1897\", [{\"marker\": {\"color\": [0, 0, 0, 0], \"colorscale\": \"RdBu\", \"cmax\": 1, \"cmin\": -1, \"size\": 10}, \"mode\": \"markers\", \"hoverinfo\": \"text\", \"y\": [0, 1, 2, 3], \"x\": [10, 37, 40, 13], \"type\": \"scatter\"}, {\"text\": [\"<b>Bus</b>: R0-1<br><b>Departs</b>: 10.0\", \"<b>Bus</b>: R0-1<br><b>Arrives</b>: 17.0<br><b>Transfer time</b>: 3\"], \"marker\": {\"color\": [0, 0], \"colorscale\": \"Jet\", \"cmax\": 1, \"cmin\": 0, \"size\": 10}, \"mode\": \"lines+markers\", \"hoverinfo\": \"text\", \"y\": [0, 0], \"x\": [10.0, 17.0], \"line\": {\"color\": \"rgb(0.0, 0.0, 0.5)\", \"width\": 5}, \"type\": \"scatter\"}, {\"text\": [\"<b>Bus</b>: R1-1<br><b>Departs</b>: 20.0\", \"\"], \"marker\": {\"color\": [1, 1], \"colorscale\": \"Jet\", \"cmax\": 1, \"cmin\": 0, \"size\": 10}, \"mode\": \"lines+markers\", \"hoverinfo\": \"text\", \"y\": [0, 0], \"x\": [20.0, 30.0], \"line\": {\"color\": \"rgb(0.5, 0.0, 0.0)\", \"width\": 5}, \"type\": \"scatter\"}, {\"text\": [\"<b>Bus</b>: R1-4<br><b>Departs</b>: 42.0\", \"<b>Bus</b>: R1-4<br><b>Arrives</b>: 45.0<br><b>Transfer time</b>: 2\"], \"marker\": {\"color\": [1, 1], \"colorscale\": \"Jet\", \"cmax\": 1, \"cmin\": 0, \"size\": 10}, \"mode\": \"lines+markers\", \"hoverinfo\": \"text\", \"y\": [1, 1], \"x\": [42.0, 45.0], \"line\": {\"color\": \"rgb(0.5, 0.0, 0.0)\", \"width\": 5}, \"type\": \"scatter\"}, {\"text\": [\"<b>Bus</b>: R0-4<br><b>Departs</b>: 47.0\", \"\"], \"marker\": {\"color\": [0, 0], \"colorscale\": \"Jet\", \"cmax\": 1, \"cmin\": 0, \"size\": 10}, \"mode\": \"lines+markers\", \"hoverinfo\": \"text\", \"y\": [1, 1], \"x\": [47.0, 57.0], \"line\": {\"color\": \"rgb(0.0, 0.0, 0.5)\", \"width\": 5}, \"type\": \"scatter\"}, {\"text\": [\"<b>Bus</b>: R0-4<br><b>Departs</b>: 43.0\", \"<b>Bus</b>: R0-4<br><b>Arrives</b>: 45.0<br><b>Transfer time</b>: 2\"], \"marker\": {\"color\": [0, 0], \"colorscale\": \"Jet\", \"cmax\": 1, \"cmin\": 0, \"size\": 10}, \"mode\": \"lines+markers\", \"hoverinfo\": \"text\", \"y\": [2, 2], \"x\": [43.0, 45.0], \"line\": {\"color\": \"rgb(0.0, 0.0, 0.5)\", \"width\": 5}, \"type\": \"scatter\"}, {\"text\": [\"<b>Bus</b>: R1-4<br><b>Departs</b>: 47.0\", \"<b>Bus</b>: R1-4<br><b>Arrives</b>: 53.0<br><b>Transfer time</b>: 2\"], \"marker\": {\"color\": [1, 1], \"colorscale\": \"Jet\", \"cmax\": 1, \"cmin\": 0, \"size\": 10}, \"mode\": \"lines+markers\", \"hoverinfo\": \"text\", \"y\": [2, 2], \"x\": [47.0, 53.0], \"line\": {\"color\": \"rgb(0.5, 0.0, 0.0)\", \"width\": 5}, \"type\": \"scatter\"}, {\"text\": [\"<b>Bus</b>: R0-5<br><b>Departs</b>: 55.0\", \"\"], \"marker\": {\"color\": [0, 0], \"colorscale\": \"Jet\", \"cmax\": 1, \"cmin\": 0, \"size\": 10}, \"mode\": \"lines+markers\", \"hoverinfo\": \"text\", \"y\": [2, 2], \"x\": [55.0, 65.0], \"line\": {\"color\": \"rgb(0.0, 0.0, 0.5)\", \"width\": 5}, \"type\": \"scatter\"}, {\"text\": [\"<b>Bus</b>: R1-2<br><b>Departs</b>: 22.0\", \"<b>Bus</b>: R1-2<br><b>Arrives</b>: 33.0<br><b>Transfer time</b>: 2\"], \"marker\": {\"color\": [1, 1], \"colorscale\": \"Jet\", \"cmax\": 1, \"cmin\": 0, \"size\": 10}, \"mode\": \"lines+markers\", \"hoverinfo\": \"text\", \"y\": [3, 3], \"x\": [22.0, 33.0], \"line\": {\"color\": \"rgb(0.5, 0.0, 0.0)\", \"width\": 5}, \"type\": \"scatter\"}, {\"text\": [\"<b>Bus</b>: R0-3<br><b>Departs</b>: 35.0\", \"\"], \"marker\": {\"color\": [0, 0], \"colorscale\": \"Jet\", \"cmax\": 1, \"cmin\": 0, \"size\": 10}, \"mode\": \"lines+markers\", \"hoverinfo\": \"text\", \"y\": [3, 3], \"x\": [35.0, 45.0], \"line\": {\"color\": \"rgb(0.0, 0.0, 0.5)\", \"width\": 5}, \"type\": \"scatter\"}], {\"showlegend\": false, \"yaxis\": {\"showticklabels\": true, \"zerolinewidth\": 1, \"ticks\": \"\", \"showgrid\": false, \"zerolinecolor\": \"rgb(.95,.95,.95)\", \"zeroline\": false, \"showline\": false, \"ticktext\": [\"G0\", \"G1\", \"G2\", \"G3\"], \"autorange\": \"reversed\", \"tickvals\": [0, 1, 2, 3]}, \"title\": \"Groups\", \"height\": 300, \"xaxis\": {\"showticklabels\": true, \"ticks\": \"\", \"dtick\": 5, \"showgrid\": true, \"range\": [-1, 101], \"zeroline\": false, \"showline\": false, \"autotick\": false, \"autorange\": false}, \"hovermode\": \"closest\"}, {\"linkText\": \"Export to plot.ly\", \"showLink\": true})});</script>"
      ],
      "text/vnd.plotly.v1+html": [
       "<div id=\"5d165554-e9c8-440c-a8c3-6ca053ad1897\" style=\"height: 300px; width: 100%;\" class=\"plotly-graph-div\"></div><script type=\"text/javascript\">require([\"plotly\"], function(Plotly) { window.PLOTLYENV=window.PLOTLYENV || {};window.PLOTLYENV.BASE_URL=\"https://plot.ly\";Plotly.newPlot(\"5d165554-e9c8-440c-a8c3-6ca053ad1897\", [{\"marker\": {\"color\": [0, 0, 0, 0], \"colorscale\": \"RdBu\", \"cmax\": 1, \"cmin\": -1, \"size\": 10}, \"mode\": \"markers\", \"hoverinfo\": \"text\", \"y\": [0, 1, 2, 3], \"x\": [10, 37, 40, 13], \"type\": \"scatter\"}, {\"text\": [\"<b>Bus</b>: R0-1<br><b>Departs</b>: 10.0\", \"<b>Bus</b>: R0-1<br><b>Arrives</b>: 17.0<br><b>Transfer time</b>: 3\"], \"marker\": {\"color\": [0, 0], \"colorscale\": \"Jet\", \"cmax\": 1, \"cmin\": 0, \"size\": 10}, \"mode\": \"lines+markers\", \"hoverinfo\": \"text\", \"y\": [0, 0], \"x\": [10.0, 17.0], \"line\": {\"color\": \"rgb(0.0, 0.0, 0.5)\", \"width\": 5}, \"type\": \"scatter\"}, {\"text\": [\"<b>Bus</b>: R1-1<br><b>Departs</b>: 20.0\", \"\"], \"marker\": {\"color\": [1, 1], \"colorscale\": \"Jet\", \"cmax\": 1, \"cmin\": 0, \"size\": 10}, \"mode\": \"lines+markers\", \"hoverinfo\": \"text\", \"y\": [0, 0], \"x\": [20.0, 30.0], \"line\": {\"color\": \"rgb(0.5, 0.0, 0.0)\", \"width\": 5}, \"type\": \"scatter\"}, {\"text\": [\"<b>Bus</b>: R1-4<br><b>Departs</b>: 42.0\", \"<b>Bus</b>: R1-4<br><b>Arrives</b>: 45.0<br><b>Transfer time</b>: 2\"], \"marker\": {\"color\": [1, 1], \"colorscale\": \"Jet\", \"cmax\": 1, \"cmin\": 0, \"size\": 10}, \"mode\": \"lines+markers\", \"hoverinfo\": \"text\", \"y\": [1, 1], \"x\": [42.0, 45.0], \"line\": {\"color\": \"rgb(0.5, 0.0, 0.0)\", \"width\": 5}, \"type\": \"scatter\"}, {\"text\": [\"<b>Bus</b>: R0-4<br><b>Departs</b>: 47.0\", \"\"], \"marker\": {\"color\": [0, 0], \"colorscale\": \"Jet\", \"cmax\": 1, \"cmin\": 0, \"size\": 10}, \"mode\": \"lines+markers\", \"hoverinfo\": \"text\", \"y\": [1, 1], \"x\": [47.0, 57.0], \"line\": {\"color\": \"rgb(0.0, 0.0, 0.5)\", \"width\": 5}, \"type\": \"scatter\"}, {\"text\": [\"<b>Bus</b>: R0-4<br><b>Departs</b>: 43.0\", \"<b>Bus</b>: R0-4<br><b>Arrives</b>: 45.0<br><b>Transfer time</b>: 2\"], \"marker\": {\"color\": [0, 0], \"colorscale\": \"Jet\", \"cmax\": 1, \"cmin\": 0, \"size\": 10}, \"mode\": \"lines+markers\", \"hoverinfo\": \"text\", \"y\": [2, 2], \"x\": [43.0, 45.0], \"line\": {\"color\": \"rgb(0.0, 0.0, 0.5)\", \"width\": 5}, \"type\": \"scatter\"}, {\"text\": [\"<b>Bus</b>: R1-4<br><b>Departs</b>: 47.0\", \"<b>Bus</b>: R1-4<br><b>Arrives</b>: 53.0<br><b>Transfer time</b>: 2\"], \"marker\": {\"color\": [1, 1], \"colorscale\": \"Jet\", \"cmax\": 1, \"cmin\": 0, \"size\": 10}, \"mode\": \"lines+markers\", \"hoverinfo\": \"text\", \"y\": [2, 2], \"x\": [47.0, 53.0], \"line\": {\"color\": \"rgb(0.5, 0.0, 0.0)\", \"width\": 5}, \"type\": \"scatter\"}, {\"text\": [\"<b>Bus</b>: R0-5<br><b>Departs</b>: 55.0\", \"\"], \"marker\": {\"color\": [0, 0], \"colorscale\": \"Jet\", \"cmax\": 1, \"cmin\": 0, \"size\": 10}, \"mode\": \"lines+markers\", \"hoverinfo\": \"text\", \"y\": [2, 2], \"x\": [55.0, 65.0], \"line\": {\"color\": \"rgb(0.0, 0.0, 0.5)\", \"width\": 5}, \"type\": \"scatter\"}, {\"text\": [\"<b>Bus</b>: R1-2<br><b>Departs</b>: 22.0\", \"<b>Bus</b>: R1-2<br><b>Arrives</b>: 33.0<br><b>Transfer time</b>: 2\"], \"marker\": {\"color\": [1, 1], \"colorscale\": \"Jet\", \"cmax\": 1, \"cmin\": 0, \"size\": 10}, \"mode\": \"lines+markers\", \"hoverinfo\": \"text\", \"y\": [3, 3], \"x\": [22.0, 33.0], \"line\": {\"color\": \"rgb(0.5, 0.0, 0.0)\", \"width\": 5}, \"type\": \"scatter\"}, {\"text\": [\"<b>Bus</b>: R0-3<br><b>Departs</b>: 35.0\", \"\"], \"marker\": {\"color\": [0, 0], \"colorscale\": \"Jet\", \"cmax\": 1, \"cmin\": 0, \"size\": 10}, \"mode\": \"lines+markers\", \"hoverinfo\": \"text\", \"y\": [3, 3], \"x\": [35.0, 45.0], \"line\": {\"color\": \"rgb(0.0, 0.0, 0.5)\", \"width\": 5}, \"type\": \"scatter\"}], {\"showlegend\": false, \"yaxis\": {\"showticklabels\": true, \"zerolinewidth\": 1, \"ticks\": \"\", \"showgrid\": false, \"zerolinecolor\": \"rgb(.95,.95,.95)\", \"zeroline\": false, \"showline\": false, \"ticktext\": [\"G0\", \"G1\", \"G2\", \"G3\"], \"autorange\": \"reversed\", \"tickvals\": [0, 1, 2, 3]}, \"title\": \"Groups\", \"height\": 300, \"xaxis\": {\"showticklabels\": true, \"ticks\": \"\", \"dtick\": 5, \"showgrid\": true, \"range\": [-1, 101], \"zeroline\": false, \"showline\": false, \"autotick\": false, \"autorange\": false}, \"hovermode\": \"closest\"}, {\"linkText\": \"Export to plot.ly\", \"showLink\": true})});</script>"
      ]
     },
     "metadata": {},
     "output_type": "display_data"
    }
   ],
   "source": [
    "from matplotlib import cm, colors\n",
    "jet = cm.get_cmap('jet')\n",
    "norm = colors.Normalize(vmin=0, vmax=len(routes)-1)\n",
    "\n",
    "traces = []\n",
    "\n",
    "traces.append(Scatter(\n",
    "    x = alpha,\n",
    "    y = range(len(groups)),\n",
    "    mode = 'markers',\n",
    "    marker = dict(\n",
    "        size = 10,\n",
    "        color = [0] * len(groups),\n",
    "        colorscale = 'RdBu',\n",
    "        cmin = -1,\n",
    "        cmax = 1\n",
    "    ),\n",
    "    hoverinfo = \"text\",\n",
    "#     text = ['<b>Arrival</b>: {}'.format(alpha[g]) for g in range(len(groups))]\n",
    "))\n",
    "\n",
    "for g, (rs, ss, o) in enumerate(groups):\n",
    "    sp = o\n",
    "    \n",
    "    for r, rp, s in zip(rs[:-1], rs[1:], ss):\n",
    "        stop_r = stops[r].index(s)\n",
    "        stop_rs = stops[rp].index(s)\n",
    "        \n",
    "        for k, kp in [(k, kp)for k in range(buses[r]) for kp in range(buses[rp])]:\n",
    "            if abs(v[p[r][rp][s][k][kp][g]] - 1) <= 0.0001:\n",
    "                traces.append(Scatter(\n",
    "                    x = [round(v[d[r][stops[r].index(sp)][k]]), \n",
    "                         round(v[a[r][stop_r][k]])],\n",
    "                    y = [g, g],\n",
    "                    mode = 'lines+markers',\n",
    "                    marker = dict(\n",
    "                        size = 10,\n",
    "                        color = [r, r],\n",
    "                        colorscale = 'Jet',\n",
    "                        cmin = 0,\n",
    "                        cmax = len(routes)-1,\n",
    "                    ), line = dict(\n",
    "                        width = 5,\n",
    "                        color = 'rgb' + str(colors.colorConverter.to_rgb(jet(norm(r)))),\n",
    "                    ), hoverinfo = \"text\",\n",
    "                    text = ['<b>Bus</b>: R{}-{}<br><b>Departs</b>: {}'.format(r,k,round(v[d[r][stops[r].index(sp)][k]])),\n",
    "                            '<b>Bus</b>: R{}-{}<br><b>Arrives</b>: {}<br><b>Transfer time</b>: {}'.format(r,k,round(v[a[r][stop_r][k]]),omega[r][s][rp])]\n",
    "                ))\n",
    "                \n",
    "                break\n",
    "                \n",
    "        \n",
    "                \n",
    "        sp = s\n",
    "        \n",
    "    traces.append(Scatter(\n",
    "        x = [round(v[d[rp][stops[rp].index(sp)][kp]]), \n",
    "             min([round(v[d[rp][stops[rp].index(sp)][kp]])+10, plan_horizon])],\n",
    "        y = [g, g],\n",
    "        mode = 'lines+markers',\n",
    "        marker = dict(\n",
    "            size = 10,\n",
    "            color = [rp, rp],\n",
    "            colorscale = 'Jet',\n",
    "            cmin = 0,\n",
    "            cmax = len(routes)-1,\n",
    "        ), line = dict(\n",
    "            width = 5,\n",
    "            color = 'rgb' + str(colors.colorConverter.to_rgb(jet(norm(rp)))),\n",
    "        ), hoverinfo = \"text\",\n",
    "        text = ['<b>Bus</b>: R{}-{}<br><b>Departs</b>: {}'.format(rp,kp,round(v[d[rp][stops[rp].index(sp)][kp]])), '']\n",
    "\n",
    "))\n",
    "\n",
    "lo = alter_layout({\n",
    "    'title'  : \"Groups\",\n",
    "    'hovermode': \"closest\",\n",
    "    'height' : 100+50*len(transfers),\n",
    "    'yaxis'  : {'zeroline': False, 'showgrid': False, 'tickvals': range(len(groups)), 'ticktext': ['G{}'.format(g) for g in range(len(groups))], 'showticklabels': True, 'autorange': 'reversed'},\n",
    "    'xaxis'  : {'autorange': False, 'range': [-1, plan_horizon+1], 'showgrid': True, 'autotick': False, 'dtick': 5, 'showticklabels': True},\n",
    "})\n",
    "\n",
    "fig = Figure(data=traces, layout=lo)\n",
    "iplot(fig, filename='ISTTT23_groups')"
   ]
  }
 ],
 "metadata": {
  "kernelspec": {
   "display_name": "Python 2",
   "language": "python",
   "name": "python2"
  },
  "language_info": {
   "codemirror_mode": {
    "name": "ipython",
    "version": 2
   },
   "file_extension": ".py",
   "mimetype": "text/x-python",
   "name": "python",
   "nbconvert_exporter": "python",
   "pygments_lexer": "ipython2",
   "version": "2.7.13"
  }
 },
 "nbformat": 4,
 "nbformat_minor": 2
}
